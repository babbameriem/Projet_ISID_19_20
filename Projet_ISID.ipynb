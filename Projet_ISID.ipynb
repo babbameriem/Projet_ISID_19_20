{
  "nbformat": 4,
  "nbformat_minor": 0,
  "metadata": {
    "colab": {
      "name": "Projet_ISID.ipynb",
      "provenance": [],
      "collapsed_sections": []
    },
    "kernelspec": {
      "name": "python3",
      "display_name": "Python 3"
    }
  },
  "cells": [
    {
      "cell_type": "code",
      "metadata": {
        "id": "oL7qqskaWbQB",
        "colab_type": "code",
        "outputId": "7b83edc7-3174-4f0e-b4bd-b21235d4c5cf",
        "colab": {
          "base_uri": "https://localhost:8080/",
          "height": 54
        }
      },
      "source": [
        "from google.colab import drive\n",
        "drive.mount('/content/gdrive')"
      ],
      "execution_count": 0,
      "outputs": [
        {
          "output_type": "stream",
          "text": [
            "Drive already mounted at /content/gdrive; to attempt to forcibly remount, call drive.mount(\"/content/gdrive\", force_remount=True).\n"
          ],
          "name": "stdout"
        }
      ]
    },
    {
      "cell_type": "markdown",
      "metadata": {
        "id": "FSRPabiSivrg",
        "colab_type": "text"
      },
      "source": [
        "# **Imports**"
      ]
    },
    {
      "cell_type": "code",
      "metadata": {
        "id": "Q59Mqo-OhvWU",
        "colab_type": "code",
        "outputId": "119d4480-b017-4582-d7a1-a4bbd84ba98b",
        "colab": {
          "base_uri": "https://localhost:8080/",
          "height": 50
        }
      },
      "source": [
        "import numpy as np\n",
        "import pandas as pd\n",
        "import re\n",
        "import nltk\n",
        "nltk.download('stopwords')\n",
        "from nltk.corpus import stopwords\n",
        "from gensim.models import Word2Vec\n",
        "from sklearn.decomposition import PCA\n",
        "import matplotlib.pyplot as plt\n",
        "from sklearn.feature_extraction.text import TfidfVectorizer\n",
        "import operator\n",
        "from keras.models import Sequential, Model \n",
        "from keras.layers.embeddings import Embedding\n",
        "from keras.layers import Flatten, Dense, Dropout, Convolution1D, MaxPooling1D, SpatialDropout1D, Input\n",
        "from keras.layers import GlobalMaxPooling1D, concatenate, LSTM, Bidirectional, RepeatVector , GRU , Reshape\n",
        "from keras.optimizers import Adam , Nadam\n",
        "from keras.utils import np_utils\n",
        "from keras.preprocessing.sequence import pad_sequences\n",
        "from keras.preprocessing.text import Tokenizer\n",
        "from sklearn.model_selection import train_test_split\n",
        "#from keras.callbacks import ModelCheckpoint"
      ],
      "execution_count": 0,
      "outputs": [
        {
          "output_type": "stream",
          "text": [
            "[nltk_data] Downloading package stopwords to /root/nltk_data...\n",
            "[nltk_data]   Package stopwords is already up-to-date!\n"
          ],
          "name": "stdout"
        }
      ]
    },
    {
      "cell_type": "markdown",
      "metadata": {
        "id": "uDWXzsAHWztK",
        "colab_type": "text"
      },
      "source": [
        "# **Explore a pretarained Glove model**"
      ]
    },
    {
      "cell_type": "markdown",
      "metadata": {
        "id": "oPrtque8QuOm",
        "colab_type": "text"
      },
      "source": [
        "We will use a pretrained Glove model for word embedding"
      ]
    },
    {
      "cell_type": "code",
      "metadata": {
        "id": "kNSrLmTkWuJ4",
        "colab_type": "code",
        "outputId": "63d54883-2781-4f6b-894c-e2a7a49f470b",
        "colab": {
          "base_uri": "https://localhost:8080/",
          "height": 34
        }
      },
      "source": [
        "embeddings_dictionary = dict()\n",
        "glove_file = open('/content/gdrive/My Drive/glove.6B.100d.txt', encoding=\"utf8\")\n",
        "for line in glove_file:\n",
        "    records = line.split()\n",
        "    word = records[0]\n",
        "    vector_dimensions = np.asarray(records[1:], dtype='float32')\n",
        "    embeddings_dictionary [word] = vector_dimensions\n",
        "\n",
        "glove_file.close()\n",
        "len(embeddings_dictionary)"
      ],
      "execution_count": 0,
      "outputs": [
        {
          "output_type": "execute_result",
          "data": {
            "text/plain": [
              "400000"
            ]
          },
          "metadata": {
            "tags": []
          },
          "execution_count": 6
        }
      ]
    },
    {
      "cell_type": "markdown",
      "metadata": {
        "id": "piXaHbkPXDtd",
        "colab_type": "text"
      },
      "source": [
        "Loading data"
      ]
    },
    {
      "cell_type": "code",
      "metadata": {
        "id": "xt36BGGlHDyl",
        "colab_type": "code",
        "outputId": "69d81839-cf91-4eeb-fef4-b6b9eb5863f5",
        "colab": {
          "resources": {
            "http://localhost:8080/nbextensions/google.colab/files.js": {
              "data": "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",
              "ok": true,
              "headers": [
                [
                  "content-type",
                  "application/javascript"
                ]
              ],
              "status": 200,
              "status_text": ""
            }
          },
          "base_uri": "https://localhost:8080/",
          "height": 108
        }
      },
      "source": [
        "from google.colab import files\n",
        "uploaded = files.upload()\n"
      ],
      "execution_count": 0,
      "outputs": [
        {
          "output_type": "display_data",
          "data": {
            "text/html": [
              "\n",
              "     <input type=\"file\" id=\"files-1d1c1c31-5454-405e-81ef-b1cf09c562ac\" name=\"files[]\" multiple disabled />\n",
              "     <output id=\"result-1d1c1c31-5454-405e-81ef-b1cf09c562ac\">\n",
              "      Upload widget is only available when the cell has been executed in the\n",
              "      current browser session. Please rerun this cell to enable.\n",
              "      </output>\n",
              "      <script src=\"/nbextensions/google.colab/files.js\"></script> "
            ],
            "text/plain": [
              "<IPython.core.display.HTML object>"
            ]
          },
          "metadata": {
            "tags": []
          }
        },
        {
          "output_type": "stream",
          "text": [
            "Saving elonmusk_tweets.csv to elonmusk_tweets (4).csv\n",
            "Saving Tweets_by_DonaldTrump_.csv to Tweets_by_DonaldTrump_ (4).csv\n"
          ],
          "name": "stdout"
        }
      ]
    },
    {
      "cell_type": "code",
      "metadata": {
        "id": "uzuxHwx4HSfR",
        "colab_type": "code",
        "outputId": "a7cd49ed-9fb1-445a-d5f9-41016879453b",
        "colab": {
          "base_uri": "https://localhost:8080/",
          "height": 195
        }
      },
      "source": [
        "df=pd.read_csv('elonmusk_tweets (4).csv')\n",
        "df_donald=pd.read_csv('Tweets_by_DonaldTrump_ (4).csv')\n",
        "df.head()"
      ],
      "execution_count": 0,
      "outputs": [
        {
          "output_type": "execute_result",
          "data": {
            "text/html": [
              "<div>\n",
              "<style scoped>\n",
              "    .dataframe tbody tr th:only-of-type {\n",
              "        vertical-align: middle;\n",
              "    }\n",
              "\n",
              "    .dataframe tbody tr th {\n",
              "        vertical-align: top;\n",
              "    }\n",
              "\n",
              "    .dataframe thead th {\n",
              "        text-align: right;\n",
              "    }\n",
              "</style>\n",
              "<table border=\"1\" class=\"dataframe\">\n",
              "  <thead>\n",
              "    <tr style=\"text-align: right;\">\n",
              "      <th></th>\n",
              "      <th>id</th>\n",
              "      <th>created_at</th>\n",
              "      <th>text</th>\n",
              "    </tr>\n",
              "  </thead>\n",
              "  <tbody>\n",
              "    <tr>\n",
              "      <th>0</th>\n",
              "      <td>849636868052275200</td>\n",
              "      <td>2017-04-05 14:56:29</td>\n",
              "      <td>b'And so the robots spared humanity ... https:...</td>\n",
              "    </tr>\n",
              "    <tr>\n",
              "      <th>1</th>\n",
              "      <td>848988730585096192</td>\n",
              "      <td>2017-04-03 20:01:01</td>\n",
              "      <td>b\"@ForIn2020 @waltmossberg @mims @defcon_5 Exa...</td>\n",
              "    </tr>\n",
              "    <tr>\n",
              "      <th>2</th>\n",
              "      <td>848943072423497728</td>\n",
              "      <td>2017-04-03 16:59:35</td>\n",
              "      <td>b'@waltmossberg @mims @defcon_5 Et tu, Walt?'</td>\n",
              "    </tr>\n",
              "    <tr>\n",
              "      <th>3</th>\n",
              "      <td>848935705057280001</td>\n",
              "      <td>2017-04-03 16:30:19</td>\n",
              "      <td>b'Stormy weather in Shortville ...'</td>\n",
              "    </tr>\n",
              "    <tr>\n",
              "      <th>4</th>\n",
              "      <td>848416049573658624</td>\n",
              "      <td>2017-04-02 06:05:23</td>\n",
              "      <td>b\"@DaveLeeBBC @verge Coal is dying due to nat ...</td>\n",
              "    </tr>\n",
              "  </tbody>\n",
              "</table>\n",
              "</div>"
            ],
            "text/plain": [
              "                   id  ...                                               text\n",
              "0  849636868052275200  ...  b'And so the robots spared humanity ... https:...\n",
              "1  848988730585096192  ...  b\"@ForIn2020 @waltmossberg @mims @defcon_5 Exa...\n",
              "2  848943072423497728  ...      b'@waltmossberg @mims @defcon_5 Et tu, Walt?'\n",
              "3  848935705057280001  ...                b'Stormy weather in Shortville ...'\n",
              "4  848416049573658624  ...  b\"@DaveLeeBBC @verge Coal is dying due to nat ...\n",
              "\n",
              "[5 rows x 3 columns]"
            ]
          },
          "metadata": {
            "tags": []
          },
          "execution_count": 8
        }
      ]
    },
    {
      "cell_type": "code",
      "metadata": {
        "id": "TZOXX83MhZaq",
        "colab_type": "code",
        "colab": {}
      },
      "source": [
        "#df_donald.head()"
      ],
      "execution_count": 0,
      "outputs": []
    },
    {
      "cell_type": "markdown",
      "metadata": {
        "id": "b1Tq3MZpnf_t",
        "colab_type": "text"
      },
      "source": [
        "# **Data cleaning Part1**"
      ]
    },
    {
      "cell_type": "code",
      "metadata": {
        "id": "2wXupbBjHzMx",
        "colab_type": "code",
        "colab": {}
      },
      "source": [
        "\n",
        "#from sklearn.base import BaseEstimator, TransformerMixin\n",
        "\n",
        "class TextCleaner():#BaseEstimator, TransformerMixin): \n",
        "\n",
        "    def unicode_to_ascii(self,text): #to fixe special caracters\n",
        "\n",
        "      TEXT = (text.\n",
        "    \t\treplace('\\\\xe2\\\\x80\\\\x99', \"'\").\n",
        "            replace('\\\\xc3\\\\xa9', 'e').\n",
        "            replace('\\\\xe2\\\\x80\\\\x90', '-').\n",
        "            replace('\\\\xe2\\\\x80\\\\x91', '-').\n",
        "            replace('\\\\xe2\\\\x80\\\\x92', '-').\n",
        "            replace('\\\\xe2\\\\x80\\\\x93', '-').\n",
        "            replace('\\\\xe2\\\\x80\\\\x94', '-').\n",
        "            replace('\\\\xe2\\\\x80\\\\x94', '-').\n",
        "            replace('\\\\xe2\\\\x80\\\\x98', \"'\").\n",
        "            replace('\\\\xe2\\\\x80\\\\x9b', \"'\").\n",
        "            replace('\\\\xe2\\\\x80\\\\x9c', '\"').\n",
        "            replace('\\\\xe2\\\\x80\\\\x9c', '\"').\n",
        "            replace('\\\\xe2\\\\x80\\\\x9d', '\"').\n",
        "            replace('\\\\xe2\\\\x80\\\\x9e', '\"').\n",
        "            replace('\\\\xe2\\\\x80\\\\x9f', '\"').\n",
        "            replace('\\\\xe2\\\\x80\\\\xa6', '...').#\n",
        "            replace('\\\\xe2\\\\x80\\\\xb2', \"'\").\n",
        "            replace('\\\\xe2\\\\x80\\\\xb3', \"'\").\n",
        "            replace('\\\\xe2\\\\x80\\\\xb4', \"'\").\n",
        "            replace('\\\\xe2\\\\x80\\\\xb5', \"'\").\n",
        "            replace('\\\\xe2\\\\x80\\\\xb6', \"'\").\n",
        "            replace('\\\\xe2\\\\x80\\\\xb7', \"'\").\n",
        "            replace('\\\\xe2\\\\x81\\\\xba', \"+\").\n",
        "            replace('\\\\xe2\\\\x81\\\\xbb', \"-\").\n",
        "            replace('\\\\xe2\\\\x81\\\\xbc', \"=\").\n",
        "            replace('\\\\xe2\\\\x81\\\\xbd', \"(\").\n",
        "            replace('\\\\xe2\\\\x81\\\\xbe', \")\")\n",
        "\n",
        "                 )\n",
        "      return TEXT\n",
        "\n",
        "    def remove_first(self,text):\n",
        "         return re.sub(\"b'|b\\\"\",'',text)\n",
        "\n",
        "    def remove_mentions(self, text):        \n",
        "        return re.sub(r'@\\w+', '', text)\n",
        "    \n",
        "    def remove_urls(self, text):        \n",
        "        return re.sub(r'http.?://[^\\s]+[\\s]?', '', text)\n",
        "    \n",
        "    def only_characters(self, text):\n",
        "        return re.sub('[^a-zA-Z\\s]', '', text)\n",
        "    \n",
        "    def remove_extra_spaces(self, text):\n",
        "        text = re.sub(\"\\s+\", ' ', text)\n",
        "        text = text.lstrip()\n",
        "        return text.rstrip()\n",
        "    \n",
        "    def to_lower(self, text):\n",
        "        return text.lower()\n",
        "    \n",
        "    def fix_words(self, text): # to fixe abbreviations\n",
        "        text = re.sub(r'\\bthx\\b', 'thanks', text)\n",
        "        text = re.sub(r'\\bive\\b', 'i have', text)\n",
        "        text = re.sub(r'\\bweve\\b', 'we have', text)\n",
        "        text = re.sub(r'\\byouve\\b', 'you have', text)\n",
        "        text = re.sub(r'\\bu\\b', 'you', text)\n",
        "        text = re.sub(r'\\bur\\b', 'your', text)\n",
        "        text = re.sub(r'\\br\\b', 'are', text)\n",
        "        text = re.sub(r'\\bppl\\b', 'people', text)\n",
        "        text = re.sub(r'\\bplz\\b', 'please', text)\n",
        "        text = re.sub(r'\\btmrw\\b', 'tomorrow', text)\n",
        "        text = re.sub(r'\\byall\\b', 'you all', text)\n",
        "        text = re.sub(r'\\basap\\b', 'as soon as possible', text)\n",
        "        text = re.sub(r'\\bbtw\\b', 'by the way', text)\n",
        "        text = re.sub(r'\\btv\\b', 'television', text)\n",
        "        text = re.sub(r'\\bokay\\b', 'ok', text)\n",
        "        text = re.sub(r'\\byr\\b', 'year', text)\n",
        "        text = re.sub(r'\\bshes\\b', 'she is', text)\n",
        "        text = re.sub(r'\\bnope\\b', 'no', text)\n",
        "        text = re.sub(r'\\bhes\\b', 'he is', text)\n",
        "        text = re.sub(r'\\bomg\\b', 'oh my god', text)\n",
        "        text = re.sub(r'\\bnothappy\\b', 'not happy', text)\n",
        "        return re.sub(r'\\bthankyou\\b', 'thank you', text)\n",
        "    \n",
        "    def transform(self, X):        \n",
        "        clean_X = X.apply(self.unicode_to_ascii).apply(self.remove_first).apply(self.remove_mentions).apply(self.remove_urls).apply(self.only_characters).apply(self.remove_extra_spaces).apply(self.to_lower).apply(self.fix_words)\n",
        "        return clean_X"
      ],
      "execution_count": 0,
      "outputs": []
    },
    {
      "cell_type": "code",
      "metadata": {
        "id": "bpMbZcbKgdFX",
        "colab_type": "code",
        "colab": {}
      },
      "source": [
        "\n",
        "ct = TextCleaner()\n",
        "df['clean_text'] = ct.transform(df['text'])\n",
        "#df_donald['clean_text']=ct.transform(df_donald['Tweet'])"
      ],
      "execution_count": 0,
      "outputs": []
    },
    {
      "cell_type": "code",
      "metadata": {
        "id": "YcA1kVBqhq0Z",
        "colab_type": "code",
        "outputId": "b5050a76-14d6-41a7-f105-f3a7c8439e82",
        "colab": {
          "base_uri": "https://localhost:8080/",
          "height": 402
        }
      },
      "source": [
        "df[['text','clean_text']]"
      ],
      "execution_count": 0,
      "outputs": [
        {
          "output_type": "execute_result",
          "data": {
            "text/html": [
              "<div>\n",
              "<style scoped>\n",
              "    .dataframe tbody tr th:only-of-type {\n",
              "        vertical-align: middle;\n",
              "    }\n",
              "\n",
              "    .dataframe tbody tr th {\n",
              "        vertical-align: top;\n",
              "    }\n",
              "\n",
              "    .dataframe thead th {\n",
              "        text-align: right;\n",
              "    }\n",
              "</style>\n",
              "<table border=\"1\" class=\"dataframe\">\n",
              "  <thead>\n",
              "    <tr style=\"text-align: right;\">\n",
              "      <th></th>\n",
              "      <th>text</th>\n",
              "      <th>clean_text</th>\n",
              "    </tr>\n",
              "  </thead>\n",
              "  <tbody>\n",
              "    <tr>\n",
              "      <th>0</th>\n",
              "      <td>b'And so the robots spared humanity ... https:...</td>\n",
              "      <td>and so the robots spared humanity</td>\n",
              "    </tr>\n",
              "    <tr>\n",
              "      <th>1</th>\n",
              "      <td>b\"@ForIn2020 @waltmossberg @mims @defcon_5 Exa...</td>\n",
              "      <td>exactly tesla is absurdly overvalued if based ...</td>\n",
              "    </tr>\n",
              "    <tr>\n",
              "      <th>2</th>\n",
              "      <td>b'@waltmossberg @mims @defcon_5 Et tu, Walt?'</td>\n",
              "      <td>et tu walt</td>\n",
              "    </tr>\n",
              "    <tr>\n",
              "      <th>3</th>\n",
              "      <td>b'Stormy weather in Shortville ...'</td>\n",
              "      <td>stormy weather in shortville</td>\n",
              "    </tr>\n",
              "    <tr>\n",
              "      <th>4</th>\n",
              "      <td>b\"@DaveLeeBBC @verge Coal is dying due to nat ...</td>\n",
              "      <td>coal is dying due to nat gas fracking its basi...</td>\n",
              "    </tr>\n",
              "    <tr>\n",
              "      <th>...</th>\n",
              "      <td>...</td>\n",
              "      <td>...</td>\n",
              "    </tr>\n",
              "    <tr>\n",
              "      <th>2814</th>\n",
              "      <td>b'That was a total non sequitur btw'</td>\n",
              "      <td>that was a total non sequitur by the way</td>\n",
              "    </tr>\n",
              "    <tr>\n",
              "      <th>2815</th>\n",
              "      <td>b'Great Voltaire quote, arguably better than T...</td>\n",
              "      <td>great voltaire quote arguably better than twai...</td>\n",
              "    </tr>\n",
              "    <tr>\n",
              "      <th>2816</th>\n",
              "      <td>b'I made the volume on the Model S http://t.co...</td>\n",
              "      <td>i made the volume on the model s go to now i j...</td>\n",
              "    </tr>\n",
              "    <tr>\n",
              "      <th>2817</th>\n",
              "      <td>b\"Went to Iceland on Sat to ride bumper cars o...</td>\n",
              "      <td>went to iceland on sat to ride bumper cars on ...</td>\n",
              "    </tr>\n",
              "    <tr>\n",
              "      <th>2818</th>\n",
              "      <td>b'Please ignore prior tweets, as that was some...</td>\n",
              "      <td>please ignore prior tweets as that was someone...</td>\n",
              "    </tr>\n",
              "  </tbody>\n",
              "</table>\n",
              "<p>2819 rows × 2 columns</p>\n",
              "</div>"
            ],
            "text/plain": [
              "                                                   text                                         clean_text\n",
              "0     b'And so the robots spared humanity ... https:...                  and so the robots spared humanity\n",
              "1     b\"@ForIn2020 @waltmossberg @mims @defcon_5 Exa...  exactly tesla is absurdly overvalued if based ...\n",
              "2         b'@waltmossberg @mims @defcon_5 Et tu, Walt?'                                         et tu walt\n",
              "3                   b'Stormy weather in Shortville ...'                       stormy weather in shortville\n",
              "4     b\"@DaveLeeBBC @verge Coal is dying due to nat ...  coal is dying due to nat gas fracking its basi...\n",
              "...                                                 ...                                                ...\n",
              "2814               b'That was a total non sequitur btw'           that was a total non sequitur by the way\n",
              "2815  b'Great Voltaire quote, arguably better than T...  great voltaire quote arguably better than twai...\n",
              "2816  b'I made the volume on the Model S http://t.co...  i made the volume on the model s go to now i j...\n",
              "2817  b\"Went to Iceland on Sat to ride bumper cars o...  went to iceland on sat to ride bumper cars on ...\n",
              "2818  b'Please ignore prior tweets, as that was some...  please ignore prior tweets as that was someone...\n",
              "\n",
              "[2819 rows x 2 columns]"
            ]
          },
          "metadata": {
            "tags": []
          },
          "execution_count": 12
        }
      ]
    },
    {
      "cell_type": "code",
      "metadata": {
        "id": "8VgdZOtchxEW",
        "colab_type": "code",
        "colab": {}
      },
      "source": [
        "#df_donald[['Tweet','clean_text']]"
      ],
      "execution_count": 0,
      "outputs": []
    },
    {
      "cell_type": "code",
      "metadata": {
        "id": "4nWOKyTqkCDT",
        "colab_type": "code",
        "colab": {}
      },
      "source": [
        "def tokenize(s): \n",
        "    return s.split()\n",
        "    \n",
        "stop = set(stopwords.words('english'))\n",
        "stop.update(['amp', 'rt', 'cc','cm','hr','pm','x','v','w','xexx','xfxfxxd','xexdxaxefxbxf'])\n",
        "#stop = stop - set(['no', 'not'])\n",
        "\n",
        "\n",
        "def remove_stopwords(row):\n",
        "    return ' '.join(map(str,[t for t in row if t not in stop]))\n"
      ],
      "execution_count": 0,
      "outputs": []
    },
    {
      "cell_type": "code",
      "metadata": {
        "id": "bfE20WvgkoQQ",
        "colab_type": "code",
        "colab": {}
      },
      "source": [
        "df['tokenized'] = df['clean_text'].map(tokenize).map(remove_stopwords)\n",
        "#df_donald['tokenized'] = df_donald['clean_text'].map(tokenize).map(remove_stopwords)\n"
      ],
      "execution_count": 0,
      "outputs": []
    },
    {
      "cell_type": "code",
      "metadata": {
        "id": "ln6jGjCJWRri",
        "colab_type": "code",
        "colab": {}
      },
      "source": [
        "def remove_words_not_in_Glove(row): # keeps only words within Glove corpus\n",
        "  return ' '.join(map(str,[t for t in row if t  in embeddings_dictionary.keys()]))"
      ],
      "execution_count": 0,
      "outputs": []
    },
    {
      "cell_type": "code",
      "metadata": {
        "id": "_-Wfj4gGYXGp",
        "colab_type": "code",
        "colab": {}
      },
      "source": [
        "df['tokenized'] = df['tokenized'].map(tokenize).map(remove_words_not_in_Glove)"
      ],
      "execution_count": 0,
      "outputs": []
    },
    {
      "cell_type": "code",
      "metadata": {
        "id": "3nZ2ETJdlrs2",
        "colab_type": "code",
        "outputId": "6e4eded5-cde4-43cd-ac93-df8c5a0cc1be",
        "colab": {
          "base_uri": "https://localhost:8080/",
          "height": 218
        }
      },
      "source": [
        "df.tokenized"
      ],
      "execution_count": 0,
      "outputs": [
        {
          "output_type": "execute_result",
          "data": {
            "text/plain": [
              "0                                  robots spared humanity\n",
              "1       exactly tesla absurdly overvalued based past t...\n",
              "2                                              et tu walt\n",
              "3                                          stormy weather\n",
              "4          coal dying due nat gas fracking basically dead\n",
              "                              ...                        \n",
              "2814                               total non sequitur way\n",
              "2815    great voltaire quote arguably better twain hea...\n",
              "2816    made volume model go need work miniature stone...\n",
              "2817    went iceland sat ride bumper cars ice country ...\n",
              "2818    please ignore prior tweets someone pretending ...\n",
              "Name: tokenized, Length: 2819, dtype: object"
            ]
          },
          "metadata": {
            "tags": []
          },
          "execution_count": 18
        }
      ]
    },
    {
      "cell_type": "code",
      "metadata": {
        "id": "igkhbqjsiQNh",
        "colab_type": "code",
        "colab": {}
      },
      "source": [
        "#df_donald.tokenized"
      ],
      "execution_count": 0,
      "outputs": []
    },
    {
      "cell_type": "code",
      "metadata": {
        "id": "DaFCTKRZ7LoZ",
        "colab_type": "code",
        "colab": {}
      },
      "source": [
        "df['length']=df['tokenized'].apply(lambda row: len(row.split()))\n",
        "#df_donald['length']=df_donald['tokenized'].apply(lambda row: len(row.split()))"
      ],
      "execution_count": 0,
      "outputs": []
    },
    {
      "cell_type": "code",
      "metadata": {
        "id": "e5iwaNH4PPD_",
        "colab_type": "code",
        "outputId": "ee65d5d6-85e2-49e7-aa90-6b1cfd94fd16",
        "colab": {
          "base_uri": "https://localhost:8080/",
          "height": 370
        }
      },
      "source": [
        "df['length'].value_counts()"
      ],
      "execution_count": 0,
      "outputs": [
        {
          "output_type": "execute_result",
          "data": {
            "text/plain": [
              "10    249\n",
              "8     246\n",
              "9     246\n",
              "11    225\n",
              "7     224\n",
              "12    188\n",
              "1     180\n",
              "4     176\n",
              "2     173\n",
              "6     172\n",
              "13    162\n",
              "5     155\n",
              "3     152\n",
              "14    119\n",
              "15     58\n",
              "0      44\n",
              "16     28\n",
              "17     12\n",
              "18      8\n",
              "19      2\n",
              "Name: length, dtype: int64"
            ]
          },
          "metadata": {
            "tags": []
          },
          "execution_count": 21
        }
      ]
    },
    {
      "cell_type": "code",
      "metadata": {
        "id": "b3RTtqycift8",
        "colab_type": "code",
        "colab": {}
      },
      "source": [
        "#df_donald['length'].value_counts()"
      ],
      "execution_count": 0,
      "outputs": []
    },
    {
      "cell_type": "markdown",
      "metadata": {
        "id": "bsrZQuZWjGr8",
        "colab_type": "text"
      },
      "source": [
        "# **Create Word2Vec Model based on vocabulary in elunmusk_tweet and Donald_trump tweets** \n",
        "(to use it later for words representation)"
      ]
    },
    {
      "cell_type": "markdown",
      "metadata": {
        "id": "taNI7St3khd9",
        "colab_type": "text"
      },
      "source": [
        "Creating Vocabulary"
      ]
    },
    {
      "cell_type": "code",
      "metadata": {
        "id": "MbeeFYZ3kmAG",
        "colab_type": "code",
        "outputId": "691ac7ac-358b-4c6c-dba6-78907376649f",
        "colab": {
          "base_uri": "https://localhost:8080/",
          "height": 50
        }
      },
      "source": [
        "Vocab=[]\n",
        "for tweet in df['tokenized']:\n",
        "  Vocab=Vocab+tweet.split()\n",
        "for tweet in df_donald['tokenized']:\n",
        "  Vocab=Vocab+tweet.split()\n",
        "print(len(Vocab))\n",
        "len(list(set(Vocab)))"
      ],
      "execution_count": 0,
      "outputs": [
        {
          "output_type": "stream",
          "text": [
            "56979\n"
          ],
          "name": "stdout"
        },
        {
          "output_type": "execute_result",
          "data": {
            "text/plain": [
              "9329"
            ]
          },
          "metadata": {
            "tags": []
          },
          "execution_count": 1254
        }
      ]
    },
    {
      "cell_type": "markdown",
      "metadata": {
        "id": "8Zkd9bWRlqQH",
        "colab_type": "text"
      },
      "source": [
        "Creating W2V corpus "
      ]
    },
    {
      "cell_type": "code",
      "metadata": {
        "id": "EgkP_KZhjGPL",
        "colab_type": "code",
        "colab": {}
      },
      "source": [
        "Corpus_W2V=[]\n",
        "for tweet in df['tokenized']:\n",
        "  Corpus_W2V.append(tweet.split())\n",
        "for tweet in df_donald['tokenized']:\n",
        "  Corpus_W2V.append(tweet.split())\n",
        "\n",
        "Corpus_W2V\n"
      ],
      "execution_count": 0,
      "outputs": []
    },
    {
      "cell_type": "code",
      "metadata": {
        "id": "GnalcG-KmFL2",
        "colab_type": "code",
        "outputId": "e3ad7113-3bbd-4ed6-bf23-4d772ee1b4ca",
        "colab": {
          "base_uri": "https://localhost:8080/",
          "height": 34
        }
      },
      "source": [
        "len(Corpus_W2V), len(df_donald['tokenized'])+len(df['tokenized'])"
      ],
      "execution_count": 0,
      "outputs": [
        {
          "output_type": "execute_result",
          "data": {
            "text/plain": [
              "(4433, 4433)"
            ]
          },
          "metadata": {
            "tags": []
          },
          "execution_count": 1256
        }
      ]
    },
    {
      "cell_type": "code",
      "metadata": {
        "id": "EuK2nDePmx--",
        "colab_type": "code",
        "colab": {}
      },
      "source": [
        "Model_W2V = Word2Vec(Corpus_W2V, size=100, window=5, min_count=1, sg=1,iter=20)\n"
      ],
      "execution_count": 0,
      "outputs": []
    },
    {
      "cell_type": "code",
      "metadata": {
        "id": "ouYXVn_RnPsi",
        "colab_type": "code",
        "outputId": "7ba9c0d5-e973-423c-e50c-62dbaf75e675",
        "colab": {
          "base_uri": "https://localhost:8080/",
          "height": 171
        }
      },
      "source": [
        "print(len(Model_W2V.wv.vocab))\n",
        "print(Model_W2V.wv.similarity('women','man'))\n",
        "print(Model_W2V.wv.similarity('congressman','congress'))\n",
        "print(Model_W2V.wv.similarity('robots','machines'))\n",
        "print(Model_W2V.wv.similarity('women','machine'))\n",
        "print(Model_W2V.wv.similarity('robots','humanity'))\n"
      ],
      "execution_count": 0,
      "outputs": [
        {
          "output_type": "stream",
          "text": [
            "9329\n",
            "0.49085754\n",
            "0.6992363\n",
            "0.9784548\n",
            "0.2614162\n",
            "0.8259635\n"
          ],
          "name": "stdout"
        },
        {
          "output_type": "stream",
          "text": [
            "/usr/local/lib/python3.6/dist-packages/gensim/matutils.py:737: FutureWarning: Conversion of the second argument of issubdtype from `int` to `np.signedinteger` is deprecated. In future, it will be treated as `np.int64 == np.dtype(int).type`.\n",
            "  if np.issubdtype(vec.dtype, np.int):\n"
          ],
          "name": "stderr"
        }
      ]
    },
    {
      "cell_type": "markdown",
      "metadata": {
        "id": "V2fY9xVbQJxQ",
        "colab_type": "text"
      },
      "source": [
        "PCA to plot word distribution in 2 dimension"
      ]
    },
    {
      "cell_type": "code",
      "metadata": {
        "id": "jeT4g4NNZZZY",
        "colab_type": "code",
        "outputId": "5ed550a5-2f22-4a17-d543-971cea8b93fd",
        "colab": {
          "base_uri": "https://localhost:8080/",
          "height": 318
        }
      },
      "source": [
        "X = Model_W2V[Model_W2V.wv.vocab]\n",
        "pca = PCA(n_components=2)\n",
        "result = pca.fit_transform(X)\n",
        "# create a scatter plot of the projection\n",
        "pyplot.scatter(result[:, 0], result[:, 1])\n",
        "#words = list(Model_W2V.wv.vocab)\n",
        "#for i, word in enumerate(words):\n",
        "\t#pyplot.annotate(word, xy=(result[i, 0], result[i, 1]))\n",
        "plt.show()"
      ],
      "execution_count": 0,
      "outputs": [
        {
          "output_type": "stream",
          "text": [
            "/usr/local/lib/python3.6/dist-packages/ipykernel_launcher.py:3: DeprecationWarning: Call to deprecated `__getitem__` (Method will be removed in 4.0.0, use self.wv.__getitem__() instead).\n",
            "  This is separate from the ipykernel package so we can avoid doing imports until\n"
          ],
          "name": "stderr"
        },
        {
          "output_type": "display_data",
          "data": {
            "image/png": "[encoded data removed]",
            "text/plain": [
              "<Figure size 432x288 with 1 Axes>"
            ]
          },
          "metadata": {
            "tags": []
          }
        }
      ]
    },
    {
      "cell_type": "code",
      "metadata": {
        "id": "Iamvasdnc21B",
        "colab_type": "code",
        "outputId": "91712520-8450-4901-a6e1-841c8c7425f5",
        "colab": {
          "base_uri": "https://localhost:8080/",
          "height": 70
        }
      },
      "source": [
        "Model_W2V.save('/content/gdrive/My Drive/W2V.bin')"
      ],
      "execution_count": 0,
      "outputs": [
        {
          "output_type": "stream",
          "text": [
            "/usr/local/lib/python3.6/dist-packages/smart_open/smart_open_lib.py:402: UserWarning: This function is deprecated, use smart_open.open instead. See the migration notes for details: https://github.com/RaRe-Technologies/smart_open/blob/master/README.rst#migrating-to-the-new-open-function\n",
            "  'See the migration notes for details: %s' % _MIGRATION_NOTES_URL\n"
          ],
          "name": "stderr"
        }
      ]
    },
    {
      "cell_type": "code",
      "metadata": {
        "id": "CSJzS7kwc2xS",
        "colab_type": "code",
        "outputId": "44dea1a6-9b33-468e-aa61-697159f63b0b",
        "colab": {
          "base_uri": "https://localhost:8080/",
          "height": 70
        }
      },
      "source": [
        "#model=Word2Vec.load('/content/gdrive/My Drive/W2V.bin')"
      ],
      "execution_count": 0,
      "outputs": [
        {
          "output_type": "stream",
          "text": [
            "/usr/local/lib/python3.6/dist-packages/smart_open/smart_open_lib.py:402: UserWarning: This function is deprecated, use smart_open.open instead. See the migration notes for details: https://github.com/RaRe-Technologies/smart_open/blob/master/README.rst#migrating-to-the-new-open-function\n",
            "  'See the migration notes for details: %s' % _MIGRATION_NOTES_URL\n"
          ],
          "name": "stderr"
        }
      ]
    },
    {
      "cell_type": "code",
      "metadata": {
        "id": "4AKZAS9KeHXL",
        "colab_type": "code",
        "outputId": "92ed874b-81ab-46e6-f994-cc9504fc3c1b",
        "colab": {
          "base_uri": "https://localhost:8080/",
          "height": 34
        }
      },
      "source": [
        "len(model.wv.vocab)"
      ],
      "execution_count": 0,
      "outputs": [
        {
          "output_type": "execute_result",
          "data": {
            "text/plain": [
              "9343"
            ]
          },
          "metadata": {
            "tags": []
          },
          "execution_count": 848
        }
      ]
    },
    {
      "cell_type": "markdown",
      "metadata": {
        "id": "_9F3uCQinRrB",
        "colab_type": "text"
      },
      "source": [
        "# **Data Cleaning Part 2**"
      ]
    },
    {
      "cell_type": "markdown",
      "metadata": {
        "id": "RgU4wyrxcpYE",
        "colab_type": "text"
      },
      "source": [
        "remove rows with length < 3"
      ]
    },
    {
      "cell_type": "code",
      "metadata": {
        "id": "8dA00PIuUJYp",
        "colab_type": "code",
        "outputId": "ee8959e0-52fd-4817-ae11-83b3e46da3bf",
        "colab": {
          "base_uri": "https://localhost:8080/",
          "height": 121
        }
      },
      "source": [
        "df['length'][(df.length==0)|(df.length==1)|(df.length==2)]=np.nan "
      ],
      "execution_count": 0,
      "outputs": [
        {
          "output_type": "stream",
          "text": [
            "/usr/local/lib/python3.6/dist-packages/ipykernel_launcher.py:1: SettingWithCopyWarning: \n",
            "A value is trying to be set on a copy of a slice from a DataFrame\n",
            "\n",
            "See the caveats in the documentation: http://pandas.pydata.org/pandas-docs/stable/user_guide/indexing.html#returning-a-view-versus-a-copy\n",
            "  \"\"\"Entry point for launching an IPython kernel.\n"
          ],
          "name": "stderr"
        }
      ]
    },
    {
      "cell_type": "code",
      "metadata": {
        "id": "uk1mah4UUU8C",
        "colab_type": "code",
        "outputId": "99115daf-a87f-451b-c869-d45c450d2b88",
        "colab": {
          "base_uri": "https://localhost:8080/",
          "height": 319
        }
      },
      "source": [
        "df['length'].value_counts()"
      ],
      "execution_count": 0,
      "outputs": [
        {
          "output_type": "execute_result",
          "data": {
            "text/plain": [
              "10.0    249\n",
              "8.0     246\n",
              "9.0     246\n",
              "11.0    225\n",
              "7.0     224\n",
              "12.0    188\n",
              "4.0     176\n",
              "6.0     172\n",
              "13.0    162\n",
              "5.0     155\n",
              "3.0     152\n",
              "14.0    119\n",
              "15.0     58\n",
              "16.0     28\n",
              "17.0     12\n",
              "18.0      8\n",
              "19.0      2\n",
              "Name: length, dtype: int64"
            ]
          },
          "metadata": {
            "tags": []
          },
          "execution_count": 24
        }
      ]
    },
    {
      "cell_type": "code",
      "metadata": {
        "id": "Vs8clqZiVhHc",
        "colab_type": "code",
        "outputId": "30da7509-438b-4867-9a13-ceeabeef2316",
        "colab": {
          "base_uri": "https://localhost:8080/",
          "height": 34
        }
      },
      "source": [
        "df.length.isna().sum()"
      ],
      "execution_count": 0,
      "outputs": [
        {
          "output_type": "execute_result",
          "data": {
            "text/plain": [
              "397"
            ]
          },
          "metadata": {
            "tags": []
          },
          "execution_count": 25
        }
      ]
    },
    {
      "cell_type": "code",
      "metadata": {
        "id": "o6w_QuPGVnxZ",
        "colab_type": "code",
        "colab": {}
      },
      "source": [
        "df=df.dropna()"
      ],
      "execution_count": 0,
      "outputs": []
    },
    {
      "cell_type": "code",
      "metadata": {
        "id": "H0hU8qiYW2vr",
        "colab_type": "code",
        "outputId": "bc798d7b-4770-42e6-8c8b-a8b55336a910",
        "colab": {
          "base_uri": "https://localhost:8080/",
          "height": 34
        }
      },
      "source": [
        "df.shape"
      ],
      "execution_count": 0,
      "outputs": [
        {
          "output_type": "execute_result",
          "data": {
            "text/plain": [
              "(2422, 6)"
            ]
          },
          "metadata": {
            "tags": []
          },
          "execution_count": 27
        }
      ]
    },
    {
      "cell_type": "code",
      "metadata": {
        "id": "Ex6aGl43W6jQ",
        "colab_type": "code",
        "outputId": "0aeb307d-b4c3-4040-e163-0434c8f8ec44",
        "colab": {
          "base_uri": "https://localhost:8080/",
          "height": 570
        }
      },
      "source": [
        "df"
      ],
      "execution_count": 0,
      "outputs": [
        {
          "output_type": "execute_result",
          "data": {
            "text/html": [
              "<div>\n",
              "<style scoped>\n",
              "    .dataframe tbody tr th:only-of-type {\n",
              "        vertical-align: middle;\n",
              "    }\n",
              "\n",
              "    .dataframe tbody tr th {\n",
              "        vertical-align: top;\n",
              "    }\n",
              "\n",
              "    .dataframe thead th {\n",
              "        text-align: right;\n",
              "    }\n",
              "</style>\n",
              "<table border=\"1\" class=\"dataframe\">\n",
              "  <thead>\n",
              "    <tr style=\"text-align: right;\">\n",
              "      <th></th>\n",
              "      <th>id</th>\n",
              "      <th>created_at</th>\n",
              "      <th>text</th>\n",
              "      <th>clean_text</th>\n",
              "      <th>tokenized</th>\n",
              "      <th>length</th>\n",
              "    </tr>\n",
              "  </thead>\n",
              "  <tbody>\n",
              "    <tr>\n",
              "      <th>0</th>\n",
              "      <td>849636868052275200</td>\n",
              "      <td>2017-04-05 14:56:29</td>\n",
              "      <td>b'And so the robots spared humanity ... https:...</td>\n",
              "      <td>and so the robots spared humanity</td>\n",
              "      <td>robots spared humanity</td>\n",
              "      <td>3.0</td>\n",
              "    </tr>\n",
              "    <tr>\n",
              "      <th>1</th>\n",
              "      <td>848988730585096192</td>\n",
              "      <td>2017-04-03 20:01:01</td>\n",
              "      <td>b\"@ForIn2020 @waltmossberg @mims @defcon_5 Exa...</td>\n",
              "      <td>exactly tesla is absurdly overvalued if based ...</td>\n",
              "      <td>exactly tesla absurdly overvalued based past t...</td>\n",
              "      <td>8.0</td>\n",
              "    </tr>\n",
              "    <tr>\n",
              "      <th>2</th>\n",
              "      <td>848943072423497728</td>\n",
              "      <td>2017-04-03 16:59:35</td>\n",
              "      <td>b'@waltmossberg @mims @defcon_5 Et tu, Walt?'</td>\n",
              "      <td>et tu walt</td>\n",
              "      <td>et tu walt</td>\n",
              "      <td>3.0</td>\n",
              "    </tr>\n",
              "    <tr>\n",
              "      <th>4</th>\n",
              "      <td>848416049573658624</td>\n",
              "      <td>2017-04-02 06:05:23</td>\n",
              "      <td>b\"@DaveLeeBBC @verge Coal is dying due to nat ...</td>\n",
              "      <td>coal is dying due to nat gas fracking its basi...</td>\n",
              "      <td>coal dying due nat gas fracking basically dead</td>\n",
              "      <td>8.0</td>\n",
              "    </tr>\n",
              "    <tr>\n",
              "      <th>5</th>\n",
              "      <td>848415731502923777</td>\n",
              "      <td>2017-04-02 06:04:07</td>\n",
              "      <td>b\"@Lexxxzis It's just a helicopter in helicopt...</td>\n",
              "      <td>its just a helicopter in helicopters clothing</td>\n",
              "      <td>helicopter helicopters clothing</td>\n",
              "      <td>3.0</td>\n",
              "    </tr>\n",
              "    <tr>\n",
              "      <th>...</th>\n",
              "      <td>...</td>\n",
              "      <td>...</td>\n",
              "      <td>...</td>\n",
              "      <td>...</td>\n",
              "      <td>...</td>\n",
              "      <td>...</td>\n",
              "    </tr>\n",
              "    <tr>\n",
              "      <th>2814</th>\n",
              "      <td>142881284019060736</td>\n",
              "      <td>2011-12-03 08:22:07</td>\n",
              "      <td>b'That was a total non sequitur btw'</td>\n",
              "      <td>that was a total non sequitur by the way</td>\n",
              "      <td>total non sequitur way</td>\n",
              "      <td>4.0</td>\n",
              "    </tr>\n",
              "    <tr>\n",
              "      <th>2815</th>\n",
              "      <td>142880871391838208</td>\n",
              "      <td>2011-12-03 08:20:28</td>\n",
              "      <td>b'Great Voltaire quote, arguably better than T...</td>\n",
              "      <td>great voltaire quote arguably better than twai...</td>\n",
              "      <td>great voltaire quote arguably better twain hea...</td>\n",
              "      <td>14.0</td>\n",
              "    </tr>\n",
              "    <tr>\n",
              "      <th>2816</th>\n",
              "      <td>142188458125963264</td>\n",
              "      <td>2011-12-01 10:29:04</td>\n",
              "      <td>b'I made the volume on the Model S http://t.co...</td>\n",
              "      <td>i made the volume on the model s go to now i j...</td>\n",
              "      <td>made volume model go need work miniature stone...</td>\n",
              "      <td>8.0</td>\n",
              "    </tr>\n",
              "    <tr>\n",
              "      <th>2817</th>\n",
              "      <td>142179928203460608</td>\n",
              "      <td>2011-12-01 09:55:11</td>\n",
              "      <td>b\"Went to Iceland on Sat to ride bumper cars o...</td>\n",
              "      <td>went to iceland on sat to ride bumper cars on ...</td>\n",
              "      <td>went iceland sat ride bumper cars ice country ...</td>\n",
              "      <td>14.0</td>\n",
              "    </tr>\n",
              "    <tr>\n",
              "      <th>2818</th>\n",
              "      <td>15434727182</td>\n",
              "      <td>2010-06-04 18:31:57</td>\n",
              "      <td>b'Please ignore prior tweets, as that was some...</td>\n",
              "      <td>please ignore prior tweets as that was someone...</td>\n",
              "      <td>please ignore prior tweets someone pretending ...</td>\n",
              "      <td>7.0</td>\n",
              "    </tr>\n",
              "  </tbody>\n",
              "</table>\n",
              "<p>2422 rows × 6 columns</p>\n",
              "</div>"
            ],
            "text/plain": [
              "                      id  ... length\n",
              "0     849636868052275200  ...    3.0\n",
              "1     848988730585096192  ...    8.0\n",
              "2     848943072423497728  ...    3.0\n",
              "4     848416049573658624  ...    8.0\n",
              "5     848415731502923777  ...    3.0\n",
              "...                  ...  ...    ...\n",
              "2814  142881284019060736  ...    4.0\n",
              "2815  142880871391838208  ...   14.0\n",
              "2816  142188458125963264  ...    8.0\n",
              "2817  142179928203460608  ...   14.0\n",
              "2818         15434727182  ...    7.0\n",
              "\n",
              "[2422 rows x 6 columns]"
            ]
          },
          "metadata": {
            "tags": []
          },
          "execution_count": 28
        }
      ]
    },
    {
      "cell_type": "markdown",
      "metadata": {
        "id": "Dphvv9JrcwMN",
        "colab_type": "text"
      },
      "source": [
        "Create corpus and vocabulary to use them in **TF-IDF** transformation"
      ]
    },
    {
      "cell_type": "code",
      "metadata": {
        "id": "2RaN8fRJXXZr",
        "colab_type": "code",
        "colab": {}
      },
      "source": [
        "corpus=list(df.tokenized)"
      ],
      "execution_count": 0,
      "outputs": []
    },
    {
      "cell_type": "code",
      "metadata": {
        "id": "HNEM5bH3XfSr",
        "colab_type": "code",
        "outputId": "4cffdb81-259c-4b2c-b884-0f5b7eb7223b",
        "colab": {
          "base_uri": "https://localhost:8080/",
          "height": 34
        }
      },
      "source": [
        "len(corpus)"
      ],
      "execution_count": 0,
      "outputs": [
        {
          "output_type": "execute_result",
          "data": {
            "text/plain": [
              "2422"
            ]
          },
          "metadata": {
            "tags": []
          },
          "execution_count": 30
        }
      ]
    },
    {
      "cell_type": "code",
      "metadata": {
        "id": "Nh2I6hi5Zgn_",
        "colab_type": "code",
        "colab": {}
      },
      "source": [
        "vocabulary = set()\n",
        "for tweet in corpus:\n",
        "    vocabulary.update(tweet.split())\n",
        " \n",
        "vocabulary = list(vocabulary)"
      ],
      "execution_count": 0,
      "outputs": []
    },
    {
      "cell_type": "code",
      "metadata": {
        "id": "0IWPSxGjaDkD",
        "colab_type": "code",
        "outputId": "9359ac1e-6ee5-4dbd-aa7b-ff996f2ba52b",
        "colab": {
          "base_uri": "https://localhost:8080/",
          "height": 34
        }
      },
      "source": [
        "len(vocabulary)"
      ],
      "execution_count": 0,
      "outputs": [
        {
          "output_type": "execute_result",
          "data": {
            "text/plain": [
              "5458"
            ]
          },
          "metadata": {
            "tags": []
          },
          "execution_count": 32
        }
      ]
    },
    {
      "cell_type": "code",
      "metadata": {
        "id": "-xPylqNBaFFR",
        "colab_type": "code",
        "outputId": "284f227e-a32a-4d84-bb5a-dcb6ef2835af",
        "colab": {
          "base_uri": "https://localhost:8080/",
          "height": 50
        }
      },
      "source": [
        "tfidf = TfidfVectorizer(vocabulary=vocabulary,ngram_range=(1, 2))\n",
        " \n",
        "tfidf.fit(corpus)\n",
        "tfidf.transform(corpus)"
      ],
      "execution_count": 0,
      "outputs": [
        {
          "output_type": "execute_result",
          "data": {
            "text/plain": [
              "<2422x5458 sparse matrix of type '<class 'numpy.float64'>'\n",
              "\twith 20956 stored elements in Compressed Sparse Row format>"
            ]
          },
          "metadata": {
            "tags": []
          },
          "execution_count": 33
        }
      ]
    },
    {
      "cell_type": "markdown",
      "metadata": {
        "id": "P9qudAB2dDUW",
        "colab_type": "text"
      },
      "source": [
        "Create a function to determine the 3 most important words for each tweet"
      ]
    },
    {
      "cell_type": "code",
      "metadata": {
        "id": "XYa_AilxzZHV",
        "colab_type": "code",
        "colab": {}
      },
      "source": [
        "def most_important(doc):\n",
        "    score={}\n",
        "    X = tfidf.transform([doc])\n",
        "    for word in doc.split():\n",
        "        score[word] = X[0, tfidf.vocabulary_[word]]\n",
        "    sortedscore = sorted(score.items(), key=operator.itemgetter(1), reverse=True)\n",
        "    return list(t[0] for t in sortedscore[:3])"
      ],
      "execution_count": 0,
      "outputs": []
    },
    {
      "cell_type": "code",
      "metadata": {
        "id": "j1R-07Ug0V8W",
        "colab_type": "code",
        "outputId": "4f59e9dc-e66d-424d-def7-c8c01d8517ec",
        "colab": {
          "base_uri": "https://localhost:8080/",
          "height": 34
        }
      },
      "source": [
        "most_important(df.tokenized[0])"
      ],
      "execution_count": 0,
      "outputs": [
        {
          "output_type": "execute_result",
          "data": {
            "text/plain": [
              "['spared', 'robots', 'humanity']"
            ]
          },
          "metadata": {
            "tags": []
          },
          "execution_count": 35
        }
      ]
    },
    {
      "cell_type": "code",
      "metadata": {
        "id": "nHCGoTl84DAm",
        "colab_type": "code",
        "colab": {}
      },
      "source": [
        "df['important_words']=df['tokenized'].map(most_important)"
      ],
      "execution_count": 0,
      "outputs": []
    },
    {
      "cell_type": "code",
      "metadata": {
        "id": "SGeIPcqR4OZC",
        "colab_type": "code",
        "outputId": "0d9290a2-8252-4c73-f850-5e9392855db1",
        "colab": {
          "base_uri": "https://localhost:8080/",
          "height": 218
        }
      },
      "source": [
        "df.important_words"
      ],
      "execution_count": 0,
      "outputs": [
        {
          "output_type": "execute_result",
          "data": {
            "text/plain": [
              "0                [spared, robots, humanity]\n",
              "1               [absurdly, overvalued, irr]\n",
              "2                            [tu, walt, et]\n",
              "4                    [nat, fracking, dying]\n",
              "5       [helicopters, clothing, helicopter]\n",
              "                       ...                 \n",
              "2814                 [sequitur, total, non]\n",
              "2815             [voltaire, twain, replied]\n",
              "2816        [stonehenge, miniature, volume]\n",
              "2817                [iceland, bumper, rink]\n",
              "2818           [ignore, pretending, tweets]\n",
              "Name: important_words, Length: 2422, dtype: object"
            ]
          },
          "metadata": {
            "tags": []
          },
          "execution_count": 37
        }
      ]
    },
    {
      "cell_type": "markdown",
      "metadata": {
        "id": "46omzabudRrU",
        "colab_type": "text"
      },
      "source": [
        "Transform words to their ids for further uses"
      ]
    },
    {
      "cell_type": "code",
      "metadata": {
        "id": "teRsjhQb4RKp",
        "colab_type": "code",
        "colab": {}
      },
      "source": [
        "w2id = {w: idx for idx, w in enumerate(vocabulary)}\n",
        "w2id['unk']=-1\n",
        "\n",
        "def transform_to_ids(row):\n",
        "    return [w2id[w] if w in w2id.keys() else -1 for w in row]\n",
        "df['tokenized_int'] = df['important_words'].apply(lambda x: transform_to_ids(x))\n"
      ],
      "execution_count": 0,
      "outputs": []
    },
    {
      "cell_type": "code",
      "metadata": {
        "id": "pwOCWM1qBIi7",
        "colab_type": "code",
        "outputId": "aa1570b3-e65f-4078-adae-8dc3e26b8932",
        "colab": {
          "base_uri": "https://localhost:8080/",
          "height": 218
        }
      },
      "source": [
        "df.tokenized_int"
      ],
      "execution_count": 0,
      "outputs": [
        {
          "output_type": "execute_result",
          "data": {
            "text/plain": [
              "0       [1347, 3780, 3475]\n",
              "1         [1004, 35, 2406]\n",
              "2       [5377, 1572, 4050]\n",
              "4        [5145, 2404, 441]\n",
              "5       [4191, 3096, 2382]\n",
              "               ...        \n",
              "2814    [2992, 2819, 1025]\n",
              "2815    [3255, 2703, 2776]\n",
              "2816     [4346, 565, 2358]\n",
              "2817    [4988, 4044, 1298]\n",
              "2818    [1695, 1308, 5085]\n",
              "Name: tokenized_int, Length: 2422, dtype: object"
            ]
          },
          "metadata": {
            "tags": []
          },
          "execution_count": 39
        }
      ]
    },
    {
      "cell_type": "code",
      "metadata": {
        "id": "K0rArewdBXpw",
        "colab_type": "code",
        "colab": {}
      },
      "source": [
        "df['len_important_words']=df['important_words'].apply(lambda x:len(x))"
      ],
      "execution_count": 0,
      "outputs": []
    },
    {
      "cell_type": "markdown",
      "metadata": {
        "id": "dhUTRIZAdeNn",
        "colab_type": "text"
      },
      "source": [
        "Create a new_df that contains only tweets length > 3 after the whole process of cleaning"
      ]
    },
    {
      "cell_type": "code",
      "metadata": {
        "id": "u8PB-oiaIJVa",
        "colab_type": "code",
        "colab": {}
      },
      "source": [
        "\n",
        "new_df=df[df.len_important_words>2]"
      ],
      "execution_count": 0,
      "outputs": []
    },
    {
      "cell_type": "code",
      "metadata": {
        "id": "N35kfTPMSapc",
        "colab_type": "code",
        "outputId": "f1b11623-2a2b-499e-9e7b-e3b6df1f4c8a",
        "colab": {
          "base_uri": "https://localhost:8080/",
          "height": 1000
        }
      },
      "source": [
        "new_df"
      ],
      "execution_count": 0,
      "outputs": [
        {
          "output_type": "execute_result",
          "data": {
            "text/html": [
              "<div>\n",
              "<style scoped>\n",
              "    .dataframe tbody tr th:only-of-type {\n",
              "        vertical-align: middle;\n",
              "    }\n",
              "\n",
              "    .dataframe tbody tr th {\n",
              "        vertical-align: top;\n",
              "    }\n",
              "\n",
              "    .dataframe thead th {\n",
              "        text-align: right;\n",
              "    }\n",
              "</style>\n",
              "<table border=\"1\" class=\"dataframe\">\n",
              "  <thead>\n",
              "    <tr style=\"text-align: right;\">\n",
              "      <th></th>\n",
              "      <th>id</th>\n",
              "      <th>created_at</th>\n",
              "      <th>text</th>\n",
              "      <th>clean_text</th>\n",
              "      <th>tokenized</th>\n",
              "      <th>length</th>\n",
              "      <th>important_words</th>\n",
              "      <th>tokenized_int</th>\n",
              "      <th>len_important_words</th>\n",
              "    </tr>\n",
              "  </thead>\n",
              "  <tbody>\n",
              "    <tr>\n",
              "      <th>0</th>\n",
              "      <td>849636868052275200</td>\n",
              "      <td>2017-04-05 14:56:29</td>\n",
              "      <td>b'And so the robots spared humanity ... https:...</td>\n",
              "      <td>and so the robots spared humanity</td>\n",
              "      <td>robots spared humanity</td>\n",
              "      <td>3.0</td>\n",
              "      <td>[spared, robots, humanity]</td>\n",
              "      <td>[1347, 3780, 3475]</td>\n",
              "      <td>3</td>\n",
              "    </tr>\n",
              "    <tr>\n",
              "      <th>1</th>\n",
              "      <td>848988730585096192</td>\n",
              "      <td>2017-04-03 20:01:01</td>\n",
              "      <td>b\"@ForIn2020 @waltmossberg @mims @defcon_5 Exa...</td>\n",
              "      <td>exactly tesla is absurdly overvalued if based ...</td>\n",
              "      <td>exactly tesla absurdly overvalued based past t...</td>\n",
              "      <td>8.0</td>\n",
              "      <td>[absurdly, overvalued, irr]</td>\n",
              "      <td>[1004, 35, 2406]</td>\n",
              "      <td>3</td>\n",
              "    </tr>\n",
              "    <tr>\n",
              "      <th>2</th>\n",
              "      <td>848943072423497728</td>\n",
              "      <td>2017-04-03 16:59:35</td>\n",
              "      <td>b'@waltmossberg @mims @defcon_5 Et tu, Walt?'</td>\n",
              "      <td>et tu walt</td>\n",
              "      <td>et tu walt</td>\n",
              "      <td>3.0</td>\n",
              "      <td>[tu, walt, et]</td>\n",
              "      <td>[5377, 1572, 4050]</td>\n",
              "      <td>3</td>\n",
              "    </tr>\n",
              "    <tr>\n",
              "      <th>4</th>\n",
              "      <td>848416049573658624</td>\n",
              "      <td>2017-04-02 06:05:23</td>\n",
              "      <td>b\"@DaveLeeBBC @verge Coal is dying due to nat ...</td>\n",
              "      <td>coal is dying due to nat gas fracking its basi...</td>\n",
              "      <td>coal dying due nat gas fracking basically dead</td>\n",
              "      <td>8.0</td>\n",
              "      <td>[nat, fracking, dying]</td>\n",
              "      <td>[5145, 2404, 441]</td>\n",
              "      <td>3</td>\n",
              "    </tr>\n",
              "    <tr>\n",
              "      <th>5</th>\n",
              "      <td>848415731502923777</td>\n",
              "      <td>2017-04-02 06:04:07</td>\n",
              "      <td>b\"@Lexxxzis It's just a helicopter in helicopt...</td>\n",
              "      <td>its just a helicopter in helicopters clothing</td>\n",
              "      <td>helicopter helicopters clothing</td>\n",
              "      <td>3.0</td>\n",
              "      <td>[helicopters, clothing, helicopter]</td>\n",
              "      <td>[4191, 3096, 2382]</td>\n",
              "      <td>3</td>\n",
              "    </tr>\n",
              "    <tr>\n",
              "      <th>...</th>\n",
              "      <td>...</td>\n",
              "      <td>...</td>\n",
              "      <td>...</td>\n",
              "      <td>...</td>\n",
              "      <td>...</td>\n",
              "      <td>...</td>\n",
              "      <td>...</td>\n",
              "      <td>...</td>\n",
              "      <td>...</td>\n",
              "    </tr>\n",
              "    <tr>\n",
              "      <th>2814</th>\n",
              "      <td>142881284019060736</td>\n",
              "      <td>2011-12-03 08:22:07</td>\n",
              "      <td>b'That was a total non sequitur btw'</td>\n",
              "      <td>that was a total non sequitur by the way</td>\n",
              "      <td>total non sequitur way</td>\n",
              "      <td>4.0</td>\n",
              "      <td>[sequitur, total, non]</td>\n",
              "      <td>[2992, 2819, 1025]</td>\n",
              "      <td>3</td>\n",
              "    </tr>\n",
              "    <tr>\n",
              "      <th>2815</th>\n",
              "      <td>142880871391838208</td>\n",
              "      <td>2011-12-03 08:20:28</td>\n",
              "      <td>b'Great Voltaire quote, arguably better than T...</td>\n",
              "      <td>great voltaire quote arguably better than twai...</td>\n",
              "      <td>great voltaire quote arguably better twain hea...</td>\n",
              "      <td>14.0</td>\n",
              "      <td>[voltaire, twain, replied]</td>\n",
              "      <td>[3255, 2703, 2776]</td>\n",
              "      <td>3</td>\n",
              "    </tr>\n",
              "    <tr>\n",
              "      <th>2816</th>\n",
              "      <td>142188458125963264</td>\n",
              "      <td>2011-12-01 10:29:04</td>\n",
              "      <td>b'I made the volume on the Model S http://t.co...</td>\n",
              "      <td>i made the volume on the model s go to now i j...</td>\n",
              "      <td>made volume model go need work miniature stone...</td>\n",
              "      <td>8.0</td>\n",
              "      <td>[stonehenge, miniature, volume]</td>\n",
              "      <td>[4346, 565, 2358]</td>\n",
              "      <td>3</td>\n",
              "    </tr>\n",
              "    <tr>\n",
              "      <th>2817</th>\n",
              "      <td>142179928203460608</td>\n",
              "      <td>2011-12-01 09:55:11</td>\n",
              "      <td>b\"Went to Iceland on Sat to ride bumper cars o...</td>\n",
              "      <td>went to iceland on sat to ride bumper cars on ...</td>\n",
              "      <td>went iceland sat ride bumper cars ice country ...</td>\n",
              "      <td>14.0</td>\n",
              "      <td>[iceland, bumper, rink]</td>\n",
              "      <td>[4988, 4044, 1298]</td>\n",
              "      <td>3</td>\n",
              "    </tr>\n",
              "    <tr>\n",
              "      <th>2818</th>\n",
              "      <td>15434727182</td>\n",
              "      <td>2010-06-04 18:31:57</td>\n",
              "      <td>b'Please ignore prior tweets, as that was some...</td>\n",
              "      <td>please ignore prior tweets as that was someone...</td>\n",
              "      <td>please ignore prior tweets someone pretending ...</td>\n",
              "      <td>7.0</td>\n",
              "      <td>[ignore, pretending, tweets]</td>\n",
              "      <td>[1695, 1308, 5085]</td>\n",
              "      <td>3</td>\n",
              "    </tr>\n",
              "  </tbody>\n",
              "</table>\n",
              "<p>2420 rows × 9 columns</p>\n",
              "</div>"
            ],
            "text/plain": [
              "                      id  ... len_important_words\n",
              "0     849636868052275200  ...                   3\n",
              "1     848988730585096192  ...                   3\n",
              "2     848943072423497728  ...                   3\n",
              "4     848416049573658624  ...                   3\n",
              "5     848415731502923777  ...                   3\n",
              "...                  ...  ...                 ...\n",
              "2814  142881284019060736  ...                   3\n",
              "2815  142880871391838208  ...                   3\n",
              "2816  142188458125963264  ...                   3\n",
              "2817  142179928203460608  ...                   3\n",
              "2818         15434727182  ...                   3\n",
              "\n",
              "[2420 rows x 9 columns]"
            ]
          },
          "metadata": {
            "tags": []
          },
          "execution_count": 42
        }
      ]
    },
    {
      "cell_type": "markdown",
      "metadata": {
        "id": "lI6AHsFsQjQA",
        "colab_type": "text"
      },
      "source": [
        "# **Create a column with W2V represention**"
      ]
    },
    {
      "cell_type": "code",
      "metadata": {
        "id": "Pb7pSJ7vJxv8",
        "colab_type": "code",
        "outputId": "94e532f4-d35d-4bbd-afc2-226dd559f093",
        "colab": {
          "base_uri": "https://localhost:8080/",
          "height": 87
        }
      },
      "source": [
        "len(model['robots'])"
      ],
      "execution_count": 0,
      "outputs": [
        {
          "output_type": "stream",
          "text": [
            "/usr/local/lib/python3.6/dist-packages/ipykernel_launcher.py:1: DeprecationWarning: Call to deprecated `__getitem__` (Method will be removed in 4.0.0, use self.wv.__getitem__() instead).\n",
            "  \"\"\"Entry point for launching an IPython kernel.\n"
          ],
          "name": "stderr"
        },
        {
          "output_type": "execute_result",
          "data": {
            "text/plain": [
              "100"
            ]
          },
          "metadata": {
            "tags": []
          },
          "execution_count": 1283
        }
      ]
    },
    {
      "cell_type": "code",
      "metadata": {
        "id": "2TSNKQPDKljU",
        "colab_type": "code",
        "colab": {}
      },
      "source": [
        "def word_vec(l):\n",
        "  return ([model[word] for word in l ])"
      ],
      "execution_count": 0,
      "outputs": []
    },
    {
      "cell_type": "code",
      "metadata": {
        "id": "l1glYhRXK4hN",
        "colab_type": "code",
        "outputId": "129bf261-fe9c-4ef2-eabf-5f9e560b3275",
        "colab": {
          "base_uri": "https://localhost:8080/",
          "height": 171
        }
      },
      "source": [
        "new_df['tokenized_w2v']=new_df['important_words'].map(word_vec)"
      ],
      "execution_count": 0,
      "outputs": [
        {
          "output_type": "stream",
          "text": [
            "/usr/local/lib/python3.6/dist-packages/ipykernel_launcher.py:2: DeprecationWarning: Call to deprecated `__getitem__` (Method will be removed in 4.0.0, use self.wv.__getitem__() instead).\n",
            "  \n",
            "/usr/local/lib/python3.6/dist-packages/ipykernel_launcher.py:1: SettingWithCopyWarning: \n",
            "A value is trying to be set on a copy of a slice from a DataFrame.\n",
            "Try using .loc[row_indexer,col_indexer] = value instead\n",
            "\n",
            "See the caveats in the documentation: http://pandas.pydata.org/pandas-docs/stable/user_guide/indexing.html#returning-a-view-versus-a-copy\n",
            "  \"\"\"Entry point for launching an IPython kernel.\n"
          ],
          "name": "stderr"
        }
      ]
    },
    {
      "cell_type": "code",
      "metadata": {
        "id": "mFsSIDwGOazL",
        "colab_type": "code",
        "outputId": "30993da6-478d-4222-a08a-35d031952e44",
        "colab": {
          "base_uri": "https://localhost:8080/",
          "height": 34
        }
      },
      "source": [
        "len(new_df['tokenized_int']) #, len(new_df['tokenized_w2v'])"
      ],
      "execution_count": 0,
      "outputs": [
        {
          "output_type": "execute_result",
          "data": {
            "text/plain": [
              "2420"
            ]
          },
          "metadata": {
            "tags": []
          },
          "execution_count": 104
        }
      ]
    },
    {
      "cell_type": "markdown",
      "metadata": {
        "id": "Y9WakcuN8yKF",
        "colab_type": "text"
      },
      "source": [
        "# **Create a column with Glove representation**"
      ]
    },
    {
      "cell_type": "code",
      "metadata": {
        "id": "gqstFqPD9RV_",
        "colab_type": "code",
        "colab": {}
      },
      "source": [
        "def word_glove(l):\n",
        "  return ( [embeddings_dictionary[word] for word in l])"
      ],
      "execution_count": 0,
      "outputs": []
    },
    {
      "cell_type": "code",
      "metadata": {
        "id": "UOhOSYEM9dUn",
        "colab_type": "code",
        "outputId": "23917159-92dc-4dac-b0da-85a154be3d3a",
        "colab": {
          "base_uri": "https://localhost:8080/",
          "height": 138
        }
      },
      "source": [
        "new_df['tokenized_Glove']=new_df['important_words'].map(word_glove)"
      ],
      "execution_count": 0,
      "outputs": [
        {
          "output_type": "stream",
          "text": [
            "/usr/local/lib/python3.6/dist-packages/ipykernel_launcher.py:1: SettingWithCopyWarning: \n",
            "A value is trying to be set on a copy of a slice from a DataFrame.\n",
            "Try using .loc[row_indexer,col_indexer] = value instead\n",
            "\n",
            "See the caveats in the documentation: http://pandas.pydata.org/pandas-docs/stable/user_guide/indexing.html#returning-a-view-versus-a-copy\n",
            "  \"\"\"Entry point for launching an IPython kernel.\n"
          ],
          "name": "stderr"
        }
      ]
    },
    {
      "cell_type": "code",
      "metadata": {
        "id": "tipzYuoGzeRp",
        "colab_type": "code",
        "outputId": "2c04beae-634c-47bf-c554-dc63890ea767",
        "colab": {
          "base_uri": "https://localhost:8080/",
          "height": 34
        }
      },
      "source": [
        "len(new_df['tokenized_Glove'])"
      ],
      "execution_count": 0,
      "outputs": [
        {
          "output_type": "execute_result",
          "data": {
            "text/plain": [
              "2420"
            ]
          },
          "metadata": {
            "tags": []
          },
          "execution_count": 105
        }
      ]
    },
    {
      "cell_type": "markdown",
      "metadata": {
        "id": "ss3UGOeCQb6O",
        "colab_type": "text"
      },
      "source": [
        "# **Create X and Y with Glove**"
      ]
    },
    {
      "cell_type": "code",
      "metadata": {
        "id": "0cVMIVYkScg-",
        "colab_type": "code",
        "outputId": "03d660a5-dbc9-44f4-8aba-4379c4268219",
        "colab": {
          "base_uri": "https://localhost:8080/",
          "height": 50
        }
      },
      "source": [
        "#create X\n",
        "L=[]\n",
        "for doc in new_df['tokenized_Glove']:\n",
        "\n",
        "  L.append(doc)\n",
        "print(len(L))\n",
        "X=[]\n",
        "l=[]\n",
        "j=0\n",
        "while(j < len(L)-3):\n",
        "  for i in range(3):\n",
        "      for b in L[j+i]:\n",
        "        l.append(b)\n",
        "  X.append(l)\n",
        "  l=[]\n",
        "  j=j+1\n",
        "print(j)\n",
        "#create Y\n",
        "Y=L[3:]\n",
        "\n",
        "\n",
        "\n",
        "\n"
      ],
      "execution_count": 0,
      "outputs": [
        {
          "output_type": "stream",
          "text": [
            "2420\n",
            "2417\n"
          ],
          "name": "stdout"
        }
      ]
    },
    {
      "cell_type": "code",
      "metadata": {
        "id": "yhu4T9W7vieX",
        "colab_type": "code",
        "outputId": "f029c94e-8317-47a8-a7dc-12856dc56aef",
        "colab": {
          "base_uri": "https://localhost:8080/",
          "height": 34
        }
      },
      "source": [
        "len(X), len(Y)"
      ],
      "execution_count": 0,
      "outputs": [
        {
          "output_type": "execute_result",
          "data": {
            "text/plain": [
              "(2417, 2417)"
            ]
          },
          "metadata": {
            "tags": []
          },
          "execution_count": 140
        }
      ]
    },
    {
      "cell_type": "code",
      "metadata": {
        "id": "GFhguYlmBbpO",
        "colab_type": "code",
        "outputId": "d36e5b81-4451-481c-b288-bfe5e82accc1",
        "colab": {
          "base_uri": "https://localhost:8080/",
          "height": 34
        }
      },
      "source": [
        "len(X[1]), len(Y[1])"
      ],
      "execution_count": 0,
      "outputs": [
        {
          "output_type": "execute_result",
          "data": {
            "text/plain": [
              "(9, 3)"
            ]
          },
          "metadata": {
            "tags": []
          },
          "execution_count": 141
        }
      ]
    },
    {
      "cell_type": "code",
      "metadata": {
        "id": "oE8IjAMeBj1l",
        "colab_type": "code",
        "colab": {}
      },
      "source": [
        "X=np.array(X)\n",
        "Y=np.array(Y)"
      ],
      "execution_count": 0,
      "outputs": []
    },
    {
      "cell_type": "markdown",
      "metadata": {
        "id": "oGGO46WQ_8SO",
        "colab_type": "text"
      },
      "source": [
        "# **Building the model(tokenized_Glove)**"
      ]
    },
    {
      "cell_type": "code",
      "metadata": {
        "id": "CKsN1sTLawYq",
        "colab_type": "code",
        "outputId": "c18ae200-f792-4790-a659-6d40af963d39",
        "colab": {
          "base_uri": "https://localhost:8080/",
          "height": 34
        }
      },
      "source": [
        "X_train, X_test, Y_train, Y_test = train_test_split(X, Y, test_size=0.25, random_state=0)\n",
        "X_train.shape, Y_train.shape , X_test.shape, Y_test.shape"
      ],
      "execution_count": 0,
      "outputs": [
        {
          "output_type": "execute_result",
          "data": {
            "text/plain": [
              "((1812, 9, 100), (1812, 3, 100), (605, 9, 100), (605, 3, 100))"
            ]
          },
          "metadata": {
            "tags": []
          },
          "execution_count": 144
        }
      ]
    },
    {
      "cell_type": "code",
      "metadata": {
        "id": "z6YTvqcH9k_y",
        "colab_type": "code",
        "outputId": "6973d03f-3bf7-46b9-8c92-8beb7fc48c4e",
        "colab": {
          "base_uri": "https://localhost:8080/",
          "height": 1000
        }
      },
      "source": [
        "model = Sequential()\n",
        "model.add(Convolution1D(256, 7, padding='same', activation='relu',kernel_initializer='normal'))\n",
        "model.add(MaxPooling1D())\n",
        "model.add(Flatten())\n",
        "model.add(Dropout(0.2))\n",
        "#model.add(Convolution1D(128, 3, padding='same', activation='relu',kernel_initializer='normal'))\n",
        "#model.add(MaxPooling1D(3))\n",
        "#model.add(Flatten())\n",
        "#model.add(Dropout(0.2))\n",
        "model.add(Dense(512, activation='relu',kernel_initializer='normal'))\n",
        "model.add(Dropout(0.2))\n",
        "model.add(Dense(3*100, activation='relu',kernel_initializer='normal'))\n",
        "model.add(Dropout(0.2))\n",
        "model.add(Reshape((3,100)))\n",
        "\n",
        "model.compile(loss='mse', optimizer=Adam(), metrics=['accuracy'])\n",
        "history=model.fit(X_train,Y_train,validation_data=(X_test,Y_test),batch_size=64,epochs=30,shuffle=True)"
      ],
      "execution_count": 0,
      "outputs": [
        {
          "output_type": "stream",
          "text": [
            "Train on 1812 samples, validate on 605 samples\n",
            "Epoch 1/30\n",
            "1812/1812 [==============================] - 3s 2ms/step - loss: 0.3170 - acc: 0.1902 - val_loss: 0.2759 - val_acc: 0.3504\n",
            "Epoch 2/30\n",
            "1812/1812 [==============================] - 1s 616us/step - loss: 0.2777 - acc: 0.2472 - val_loss: 0.2746 - val_acc: 0.3306\n",
            "Epoch 3/30\n",
            "1812/1812 [==============================] - 1s 601us/step - loss: 0.2759 - acc: 0.2472 - val_loss: 0.2724 - val_acc: 0.3080\n",
            "Epoch 4/30\n",
            "1812/1812 [==============================] - 1s 606us/step - loss: 0.2735 - acc: 0.2467 - val_loss: 0.2712 - val_acc: 0.3163\n",
            "Epoch 5/30\n",
            "1812/1812 [==============================] - 1s 616us/step - loss: 0.2718 - acc: 0.2653 - val_loss: 0.2708 - val_acc: 0.3300\n",
            "Epoch 6/30\n",
            "1812/1812 [==============================] - 1s 637us/step - loss: 0.2705 - acc: 0.2772 - val_loss: 0.2701 - val_acc: 0.3421\n",
            "Epoch 7/30\n",
            "1812/1812 [==============================] - 1s 624us/step - loss: 0.2697 - acc: 0.2712 - val_loss: 0.2699 - val_acc: 0.3207\n",
            "Epoch 8/30\n",
            "1812/1812 [==============================] - 1s 616us/step - loss: 0.2681 - acc: 0.2903 - val_loss: 0.2704 - val_acc: 0.3140\n",
            "Epoch 9/30\n",
            "1812/1812 [==============================] - 1s 622us/step - loss: 0.2673 - acc: 0.2888 - val_loss: 0.2697 - val_acc: 0.3311\n",
            "Epoch 10/30\n",
            "1812/1812 [==============================] - 1s 605us/step - loss: 0.2664 - acc: 0.2940 - val_loss: 0.2698 - val_acc: 0.3267\n",
            "Epoch 11/30\n",
            "1812/1812 [==============================] - 1s 626us/step - loss: 0.2649 - acc: 0.3033 - val_loss: 0.2698 - val_acc: 0.3240\n",
            "Epoch 12/30\n",
            "1812/1812 [==============================] - 1s 629us/step - loss: 0.2643 - acc: 0.3048 - val_loss: 0.2698 - val_acc: 0.3135\n",
            "Epoch 13/30\n",
            "1812/1812 [==============================] - 1s 631us/step - loss: 0.2635 - acc: 0.3048 - val_loss: 0.2700 - val_acc: 0.3157\n",
            "Epoch 14/30\n",
            "1812/1812 [==============================] - 1s 609us/step - loss: 0.2625 - acc: 0.3096 - val_loss: 0.2707 - val_acc: 0.3019\n",
            "Epoch 15/30\n",
            "1812/1812 [==============================] - 1s 634us/step - loss: 0.2614 - acc: 0.3155 - val_loss: 0.2704 - val_acc: 0.2959\n",
            "Epoch 16/30\n",
            "1812/1812 [==============================] - 1s 617us/step - loss: 0.2607 - acc: 0.3096 - val_loss: 0.2708 - val_acc: 0.3019\n",
            "Epoch 17/30\n",
            "1812/1812 [==============================] - 1s 616us/step - loss: 0.2596 - acc: 0.3241 - val_loss: 0.2704 - val_acc: 0.2992\n",
            "Epoch 18/30\n",
            "1812/1812 [==============================] - 1s 617us/step - loss: 0.2591 - acc: 0.3170 - val_loss: 0.2705 - val_acc: 0.2931\n",
            "Epoch 19/30\n",
            "1812/1812 [==============================] - 1s 617us/step - loss: 0.2580 - acc: 0.3227 - val_loss: 0.2706 - val_acc: 0.2815\n",
            "Epoch 20/30\n",
            "1812/1812 [==============================] - 1s 615us/step - loss: 0.2573 - acc: 0.3205 - val_loss: 0.2707 - val_acc: 0.2876\n",
            "Epoch 21/30\n",
            "1812/1812 [==============================] - 1s 612us/step - loss: 0.2565 - acc: 0.3282 - val_loss: 0.2707 - val_acc: 0.2876\n",
            "Epoch 22/30\n",
            "1812/1812 [==============================] - 1s 618us/step - loss: 0.2555 - acc: 0.3357 - val_loss: 0.2708 - val_acc: 0.2848\n",
            "Epoch 23/30\n",
            "1812/1812 [==============================] - 1s 618us/step - loss: 0.2548 - acc: 0.3355 - val_loss: 0.2709 - val_acc: 0.2948\n",
            "Epoch 24/30\n",
            "1812/1812 [==============================] - 1s 616us/step - loss: 0.2542 - acc: 0.3350 - val_loss: 0.2712 - val_acc: 0.2799\n",
            "Epoch 25/30\n",
            "1812/1812 [==============================] - 1s 630us/step - loss: 0.2533 - acc: 0.3418 - val_loss: 0.2709 - val_acc: 0.2815\n",
            "Epoch 26/30\n",
            "1812/1812 [==============================] - 1s 617us/step - loss: 0.2526 - acc: 0.3420 - val_loss: 0.2711 - val_acc: 0.2832\n",
            "Epoch 27/30\n",
            "1812/1812 [==============================] - 1s 605us/step - loss: 0.2515 - acc: 0.3530 - val_loss: 0.2709 - val_acc: 0.2882\n",
            "Epoch 28/30\n",
            "1812/1812 [==============================] - 1s 608us/step - loss: 0.2513 - acc: 0.3519 - val_loss: 0.2711 - val_acc: 0.2749\n",
            "Epoch 29/30\n",
            "1812/1812 [==============================] - 1s 603us/step - loss: 0.2502 - acc: 0.3482 - val_loss: 0.2712 - val_acc: 0.2843\n",
            "Epoch 30/30\n",
            "1812/1812 [==============================] - 1s 608us/step - loss: 0.2498 - acc: 0.3492 - val_loss: 0.2713 - val_acc: 0.2843\n"
          ],
          "name": "stdout"
        }
      ]
    },
    {
      "cell_type": "code",
      "metadata": {
        "id": "fbeR51_5-6le",
        "colab_type": "code",
        "outputId": "27103384-6679-428e-daba-2b3d96877837",
        "colab": {
          "base_uri": "https://localhost:8080/",
          "height": 50
        }
      },
      "source": [
        "loss,accuracy=model.evaluate(X_test,Y_test)\n",
        "print('Accuracy: %f' % (accuracy*100))"
      ],
      "execution_count": 0,
      "outputs": [
        {
          "output_type": "stream",
          "text": [
            "605/605 [==============================] - 0s 188us/step\n",
            "Accuracy: 28.429752\n"
          ],
          "name": "stdout"
        }
      ]
    },
    {
      "cell_type": "code",
      "metadata": {
        "id": "KzrCJTeYB1W7",
        "colab_type": "code",
        "outputId": "d560e3bb-16ce-4804-a250-b219ff7b0f37",
        "colab": {
          "base_uri": "https://localhost:8080/",
          "height": 268
        }
      },
      "source": [
        "loss = history.history['loss']\n",
        "val_loss = history.history['val_loss']\n",
        "plt.figure()\n",
        "plt.plot( loss, label='Training loss')\n",
        "plt.plot( val_loss, label='Validation loss')\n",
        "plt.legend()\n",
        "plt.show()"
      ],
      "execution_count": 0,
      "outputs": [
        {
          "output_type": "display_data",
          "data": {
            "image/png": "[encoded data removed]",
            "text/plain": [
              "<Figure size 432x288 with 1 Axes>"
            ]
          },
          "metadata": {
            "tags": []
          }
        }
      ]
    },
    {
      "cell_type": "code",
      "metadata": {
        "id": "Ei_T6nA6GUKJ",
        "colab_type": "code",
        "outputId": "28edcfed-3789-4d36-cf7c-620cff57c9d0",
        "colab": {
          "base_uri": "https://localhost:8080/",
          "height": 268
        }
      },
      "source": [
        "\n",
        "plt.figure()\n",
        "plt.plot(history.history['acc'],'r',label='Training acc')\n",
        "plt.plot(history.history['val_acc'],'g',label='Validation acc')\n",
        "plt.legend()\n",
        "plt.show()"
      ],
      "execution_count": 0,
      "outputs": [
        {
          "output_type": "display_data",
          "data": {
            "image/png": "[encoded data removed]",
            "text/plain": [
              "<Figure size 432x288 with 1 Axes>"
            ]
          },
          "metadata": {
            "tags": []
          }
        }
      ]
    },
    {
      "cell_type": "markdown",
      "metadata": {
        "id": "v9ZQENHXQCVs",
        "colab_type": "text"
      },
      "source": [
        "# **Models avec W2V representation**"
      ]
    },
    {
      "cell_type": "code",
      "metadata": {
        "id": "zCMd1m1YvfCg",
        "colab_type": "code",
        "colab": {}
      },
      "source": [
        "#create X\n",
        "L=[]\n",
        "for doc in new_df['tokenized_w2v']:\n",
        "\n",
        "  L.append(doc)\n",
        "print(len(L))\n",
        "X=[]\n",
        "l=[]\n",
        "j=0\n",
        "while(j < len(L)-3):\n",
        "  for i in range(3):\n",
        "      for b in L[j+i]:\n",
        "        l.append(b)\n",
        "  X.append(l)\n",
        "  l=[]\n",
        "  j=j+1\n",
        "print(j)\n",
        "#create Y\n",
        "Y=L[3:]"
      ],
      "execution_count": 0,
      "outputs": []
    },
    {
      "cell_type": "code",
      "metadata": {
        "id": "1oIxHeCPVNlc",
        "colab_type": "code",
        "colab": {}
      },
      "source": [
        "X=np.array(X)\n",
        "Y=np.array(Y)"
      ],
      "execution_count": 0,
      "outputs": []
    },
    {
      "cell_type": "code",
      "metadata": {
        "id": "9ZeOYL5373Xc",
        "colab_type": "code",
        "outputId": "1aaa7922-97d6-44f3-b9ee-5886c6aa513e",
        "colab": {
          "base_uri": "https://localhost:8080/",
          "height": 34
        }
      },
      "source": [
        "X_train, X_test, Y_train, Y_test = train_test_split(X, Y, test_size=0.3, random_state=0)\n",
        "X_train.shape, Y_train.shape , X_test.shape, Y_test.shape"
      ],
      "execution_count": 0,
      "outputs": [
        {
          "output_type": "execute_result",
          "data": {
            "text/plain": [
              "((1691, 9, 100), (1691, 3, 100), (726, 9, 100), (726, 3, 100))"
            ]
          },
          "metadata": {
            "tags": []
          },
          "execution_count": 143
        }
      ]
    },
    {
      "cell_type": "markdown",
      "metadata": {
        "id": "mm3XtcPEVZuT",
        "colab_type": "text"
      },
      "source": [
        "## **A model based on keras Dense Layer**"
      ]
    },
    {
      "cell_type": "code",
      "metadata": {
        "id": "bsXv8ug9QB-_",
        "colab_type": "code",
        "colab": {}
      },
      "source": [
        "NN_model = Sequential()\n",
        "\n",
        "# The Input Layer :\n",
        "NN_model.add(Dense(32, kernel_initializer='normal',input_shape = (X_train.shape[1],), activation='relu'))\n",
        "\n",
        "# The Hidden Layers :\n",
        "NN_model.add(Dense(8, kernel_initializer='normal',activation='relu'))\n",
        "#NN_model.add(Dense(512, kernel_initializer='normal',activation='relu'))\n",
        "#NN_model.add(Dense(512, kernel_initializer='normal',activation='relu'))\n",
        "\n",
        "# The Output Layer :\n",
        "NN_model.add(Dense(3*100, kernel_initializer='normal',activation='linear'))\n",
        "NN_model.add(Reshape((3,100)))\n",
        "# Compile the network :\n",
        "NN_model.compile(loss='mse', optimizer='adam', metrics=['accuracy'])"
      ],
      "execution_count": 0,
      "outputs": []
    },
    {
      "cell_type": "code",
      "metadata": {
        "id": "46FTlUgi_--j",
        "colab_type": "code",
        "colab": {}
      },
      "source": [
        "history=NN_model.fit(X_train,Y_train,validation_data=(X_test,Y_test), epochs=100, batch_size=32,shuffle=True)\n"
      ],
      "execution_count": 0,
      "outputs": []
    },
    {
      "cell_type": "code",
      "metadata": {
        "id": "HN-h70isAAEM",
        "colab_type": "code",
        "outputId": "812b366f-cf98-415f-8fdc-132e8a954c08",
        "colab": {
          "base_uri": "https://localhost:8080/",
          "height": 281
        }
      },
      "source": [
        "loss = history.history['loss']\n",
        "val_loss = history.history['val_loss']\n",
        "acc=history.history['acc']\n",
        "val_acc=history.history['val_acc']\n",
        "epochs = range(1, len(loss) + 1)\n",
        "plt.figure()\n",
        "plt.plot(epochs, loss, 'b', label='Training loss')\n",
        "plt.plot(epochs, val_loss, 'g', label='Validation loss')\n",
        "plt.plot(epochs, acc, 'y', label='Training acc')\n",
        "plt.plot(epochs, val_acc, 'r', label='Validation acc')\n",
        "plt.title('Training and validation loss , acc')\n",
        "plt.legend()\n",
        "plt.show()"
      ],
      "execution_count": 0,
      "outputs": [
        {
          "output_type": "display_data",
          "data": {
            "image/png": "[encoded data removed]",
            "text/plain": [
              "<Figure size 432x288 with 1 Axes>"
            ]
          },
          "metadata": {
            "tags": []
          }
        }
      ]
    },
    {
      "cell_type": "markdown",
      "metadata": {
        "id": "mC_XluU-_nLm",
        "colab_type": "text"
      },
      "source": [
        "## **A model based on keras LSTM layer**"
      ]
    },
    {
      "cell_type": "code",
      "metadata": {
        "id": "YoaMGQnE_l7N",
        "colab_type": "code",
        "colab": {}
      },
      "source": [
        "regressor = Sequential()\n",
        "\n",
        "regressor.add(LSTM(units = 256 ,input_shape = (X_train.shape[1], X_train.shape[-1]),activation='relu'))\n",
        "#regressor.add(Dropout(0.2))\n",
        "\n",
        "#regressor.add(LSTM(units = 512,activation='relu'))\n",
        "#regressor.add(Dropout(0.2))\n",
        "\n",
        "#regressor.add(LSTM(units = 512,return_sequences = True,activation='relu'))\n",
        "#regressor.add(Dropout(0.2))\n",
        "\n",
        "#regressor.add(LSTM(units = 512,activation='relu'))\n",
        "#regressor.add(Dropout(0.2))\n",
        "\n",
        "regressor.add(Dense(3*100,activation='linear'))\n",
        "regressor.add(Reshape((3,100)))\n",
        "\n",
        "regressor.compile(optimizer = 'adam', loss = 'mse', metrics=['accuracy'])\n",
        "\n",
        "history=regressor.fit(X_train, Y_train, validation_data=(X_test,Y_test), epochs = 100, batch_size = 32)"
      ],
      "execution_count": 0,
      "outputs": []
    },
    {
      "cell_type": "code",
      "metadata": {
        "id": "5zG6wHw3AnI3",
        "colab_type": "code",
        "outputId": "b68ce129-c4df-4f3d-cdda-fbc688b01951",
        "colab": {
          "base_uri": "https://localhost:8080/",
          "height": 281
        }
      },
      "source": [
        "loss = history.history['loss']\n",
        "val_loss = history.history['val_loss']\n",
        "epochs = range(1, len(loss) + 1)\n",
        "plt.figure()\n",
        "plt.plot(epochs, loss, 'b', label='Training loss')\n",
        "plt.plot(epochs, val_loss, 'g', label='Validation loss')\n",
        "plt.title('Training and validation loss')\n",
        "plt.legend()\n",
        "plt.show()"
      ],
      "execution_count": 0,
      "outputs": [
        {
          "output_type": "display_data",
          "data": {
            "image/png": "[encoded data removed]",
            "text/plain": [
              "<Figure size 432x288 with 1 Axes>"
            ]
          },
          "metadata": {
            "tags": []
          }
        }
      ]
    },
    {
      "cell_type": "code",
      "metadata": {
        "id": "gPcWT2SDYRJe",
        "colab_type": "code",
        "outputId": "85fbc9d1-bf3c-495e-af4b-17eb1cdfdbcd",
        "colab": {
          "base_uri": "https://localhost:8080/",
          "height": 281
        }
      },
      "source": [
        "acc=history.history['acc']\n",
        "val_acc=history.history['val_acc']\n",
        "plt.figure()\n",
        "plt.plot(epochs, acc, 'y', label='Training acc')\n",
        "plt.plot(epochs, val_acc, 'r', label='Validation acc')\n",
        "plt.title('Training and validation accuracy')\n",
        "plt.legend()\n",
        "plt.show()"
      ],
      "execution_count": 0,
      "outputs": [
        {
          "output_type": "display_data",
          "data": {
            "image/png": "[encoded data removed]",
            "text/plain": [
              "<Figure size 432x288 with 1 Axes>"
            ]
          },
          "metadata": {
            "tags": []
          }
        }
      ]
    },
    {
      "cell_type": "markdown",
      "metadata": {
        "id": "6MbS63hf_1Mo",
        "colab_type": "text"
      },
      "source": [
        "# **Embedding layer trainning** \n",
        "(for word embedding builing without using W2V)"
      ]
    },
    {
      "cell_type": "code",
      "metadata": {
        "id": "wPuS6b-atrfU",
        "colab_type": "code",
        "colab": {}
      },
      "source": [
        "embedding_model=Sequential()\n",
        "embedding_model.add(Embedding(input_dim=5868, output_dim=32, input_length=3))\n",
        "embedding_model.compile('rmsprop', 'mse')"
      ],
      "execution_count": 0,
      "outputs": []
    },
    {
      "cell_type": "code",
      "metadata": {
        "id": "liAKu16N1yA8",
        "colab_type": "code",
        "colab": {}
      },
      "source": [
        "L_tensor=[np.array(l) for l in L]\n",
        "tensor=np.array(L_tensor)\n",
        "history=embedding_model.fit(L,L,epochs=10,batch_size=32)"
      ],
      "execution_count": 0,
      "outputs": []
    },
    {
      "cell_type": "code",
      "metadata": {
        "id": "mGRwkL470oo1",
        "colab_type": "code",
        "colab": {}
      },
      "source": [
        "from tensorflow.keras import layers\n",
        "embedding_layer = layers.Embedding(5868, 32)\n",
        "result = embedding_layer(tf.constant(L))\n",
        "result"
      ],
      "execution_count": 0,
      "outputs": []
    },
    {
      "cell_type": "code",
      "metadata": {
        "id": "MMEGsR64trdO",
        "colab_type": "code",
        "colab": {}
      },
      "source": [
        "L_tensor=[np.array(l) for l in L]\n",
        "tensor=np.array(L_tensor)\n",
        "import tensorflow as tf\n",
        "result=embedding_model(tf.constant(L))\n",
        "result"
      ],
      "execution_count": 0,
      "outputs": []
    },
    {
      "cell_type": "code",
      "metadata": {
        "id": "XlksIoBTtraL",
        "colab_type": "code",
        "colab": {}
      },
      "source": [
        "result.shape"
      ],
      "execution_count": 0,
      "outputs": []
    },
    {
      "cell_type": "code",
      "metadata": {
        "id": "hyPkT2oQz0Rl",
        "colab_type": "code",
        "colab": {}
      },
      "source": [
        "print(tf.constant(L))"
      ],
      "execution_count": 0,
      "outputs": []
    },
    {
      "cell_type": "code",
      "metadata": {
        "id": "dABgkQDPz0PR",
        "colab_type": "code",
        "colab": {}
      },
      "source": [
        "result.numm"
      ],
      "execution_count": 0,
      "outputs": []
    },
    {
      "cell_type": "code",
      "metadata": {
        "id": "KvaDPLMRBzBq",
        "colab_type": "code",
        "colab": {}
      },
      "source": [
        "L"
      ],
      "execution_count": 0,
      "outputs": []
    },
    {
      "cell_type": "markdown",
      "metadata": {
        "id": "YpSieyoD_X3y",
        "colab_type": "text"
      },
      "source": [
        "# **Autoencoders for word embedding**\n",
        "(Determine words vectors by using autoencoders)\n"
      ]
    },
    {
      "cell_type": "code",
      "metadata": {
        "id": "cUNkI191C2vG",
        "colab_type": "code",
        "colab": {}
      },
      "source": [
        "L_seq=pad_sequences(L,maxlen=3)"
      ],
      "execution_count": 0,
      "outputs": []
    },
    {
      "cell_type": "code",
      "metadata": {
        "id": "4rzbRY-EC8vI",
        "colab_type": "code",
        "outputId": "a519c293-3e86-411b-8000-c02c04535849",
        "colab": {
          "base_uri": "https://localhost:8080/",
          "height": 134
        }
      },
      "source": [
        "L_seq"
      ],
      "execution_count": 0,
      "outputs": [
        {
          "output_type": "execute_result",
          "data": {
            "text/plain": [
              "array([[3157, 5811,   72],\n",
              "       [5823, 2885, 3294],\n",
              "       [5370, 3669, 3172],\n",
              "       ...,\n",
              "       [ 523, 3138, 4731],\n",
              "       [  90, 2639,   56],\n",
              "       [2887, 5012, 5789]], dtype=int32)"
            ]
          },
          "metadata": {
            "tags": []
          },
          "execution_count": 246
        }
      ]
    },
    {
      "cell_type": "code",
      "metadata": {
        "id": "rqGDxmFcF0CF",
        "colab_type": "code",
        "colab": {}
      },
      "source": [
        "\n",
        "tokenizer = Tokenizer(num_words =5868, split=' ')\n",
        "sentence = \"here's a sample unseen sentence\"\n",
        "seq = tokenizer.texts_to_sequences([sentence])\n",
        "pad_seq = pad_sequences(seq, 5)"
      ],
      "execution_count": 0,
      "outputs": []
    },
    {
      "cell_type": "code",
      "metadata": {
        "id": "dZGRwJQNOJyx",
        "colab_type": "code",
        "outputId": "f2852af4-d7b2-4fcf-f4af-67217df2b649",
        "colab": {
          "base_uri": "https://localhost:8080/",
          "height": 34
        }
      },
      "source": [
        "pad_seq"
      ],
      "execution_count": 0,
      "outputs": [
        {
          "output_type": "execute_result",
          "data": {
            "text/plain": [
              "array([[0, 0, 0, 0, 0]], dtype=int32)"
            ]
          },
          "metadata": {
            "tags": []
          },
          "execution_count": 185
        }
      ]
    },
    {
      "cell_type": "code",
      "metadata": {
        "id": "yJtHckGOz0Nt",
        "colab_type": "code",
        "colab": {}
      },
      "source": [
        "#encoder\n",
        "encoder_inputs = Input(shape=(3,), name='Encoder-Input')\n",
        "emb_layer = Embedding(5868,150,input_length = 3, name='Body-Word-Embedding', mask_zero=False)\n",
        "\n",
        "x = emb_layer(encoder_inputs)\n",
        "state_h = LSTM(128, activation='relu', name='Encoder-Last-LSTM')(x)\n",
        "encoder_model = Model(inputs=encoder_inputs, outputs=state_h, name='Encoder-Model')\n",
        "seq2seq_encoder_out = encoder_model(encoder_inputs)\n",
        "\n",
        "#decoder\n",
        "decoded = RepeatVector(3)(seq2seq_encoder_out)\n",
        "decoder_lstm = LSTM(128, return_sequences=True, name='Decoder-LSTM-before')\n",
        "decoder_lstm_output = decoder_lstm(decoded)\n",
        "decoder_dense = Dense(5868, activation='softmax', name='Final-Output-Dense-before')\n",
        "decoder_outputs = decoder_dense(decoder_lstm_output)\n",
        "\n",
        "#combined model\n",
        "seq2seq_Model = Model(encoder_inputs, decoder_outputs)\n",
        "seq2seq_Model.compile(Nadam(lr=0.001), loss='sparse_categorical_crossentropy')\n",
        "history = seq2seq_Model.fit(L_seq,\n",
        "          np.expand_dims(L_seq, -1),\n",
        "          batch_size=16,\n",
        "          epochs=50)"
      ],
      "execution_count": 0,
      "outputs": []
    },
    {
      "cell_type": "code",
      "metadata": {
        "id": "QlFHjC0Kz0Ly",
        "colab_type": "code",
        "outputId": "35843aa9-6e73-456c-8fbb-402e695aa6f4",
        "colab": {
          "base_uri": "https://localhost:8080/",
          "height": 454
        }
      },
      "source": [
        "vecs = encoder_model.predict(L_seq)[0]\n",
        "vecs"
      ],
      "execution_count": 0,
      "outputs": [
        {
          "output_type": "execute_result",
          "data": {
            "text/plain": [
              "array([ 4.560351  ,  0.61853415,  0.        ,  4.926578  ,  0.6014459 ,\n",
              "        0.        ,  0.        ,  0.04441418,  2.2463956 ,  2.8405104 ,\n",
              "        0.57791585,  1.5956055 ,  0.57640356,  1.9738897 ,  4.158463  ,\n",
              "        4.285515  ,  0.        ,  0.8391853 ,  0.        ,  0.2387438 ,\n",
              "        0.        ,  7.0932865 ,  0.6622597 ,  4.0267806 , 11.845824  ,\n",
              "        0.09744414, 10.22892   ,  1.2126017 ,  3.6742406 ,  6.9921393 ,\n",
              "        0.9904526 ,  0.        ,  0.11802069,  0.1316043 ,  7.27034   ,\n",
              "       12.180494  ,  2.1524053 ,  3.9857535 ,  1.1859989 ,  0.27791265,\n",
              "        2.4792469 ,  1.6614366 ,  0.9773666 ,  0.        ,  0.33074242,\n",
              "        2.718978  ,  0.        ,  4.698751  ,  4.8513613 ,  0.        ,\n",
              "        0.01396563,  0.        ,  0.48151243, 11.559972  ,  5.3572645 ,\n",
              "        0.        ,  1.9865744 ,  1.095119  ,  4.365117  ,  2.4277277 ,\n",
              "        0.7231563 ,  0.49508888,  0.41887432,  1.4233055 ,  0.29491875,\n",
              "        1.9005473 ,  0.23397616,  0.83505785,  3.5556371 ,  0.4239727 ,\n",
              "        2.2049482 ,  0.51715094,  0.        ,  1.3436354 ,  4.888855  ,\n",
              "        0.22422545,  0.05353773,  6.941073  ,  2.4412851 ,  2.2872314 ,\n",
              "        2.276052  ,  0.        ,  1.9404835 ,  1.6984746 ,  6.2805142 ,\n",
              "        1.7509989 ,  0.1041004 ,  0.        ,  0.5066516 ,  5.686607  ,\n",
              "        0.64950955,  0.1842512 ,  0.5378351 ,  0.        ,  0.        ,\n",
              "        0.21827829,  0.43461958,  6.5476866 ,  0.        ,  0.01308714,\n",
              "        0.23915698,  0.4509421 ,  1.7987268 ,  1.3125997 ,  0.08283757,\n",
              "        0.2688842 ,  0.65188456,  0.4135773 ,  2.039257  ,  2.6016598 ,\n",
              "        0.04229443,  0.27933246,  2.0532022 ,  7.0610123 ,  0.        ,\n",
              "        7.989593  ,  1.6361079 ,  5.4779425 ,  0.17163499,  0.        ,\n",
              "        0.5958319 ,  1.8568933 ,  0.44854885,  1.4414133 ,  1.8098366 ,\n",
              "        4.9754734 ,  0.        ,  1.427666  ], dtype=float32)"
            ]
          },
          "metadata": {
            "tags": []
          },
          "execution_count": 203
        }
      ]
    },
    {
      "cell_type": "code",
      "metadata": {
        "id": "E2O7HXdpz0Il",
        "colab_type": "code",
        "outputId": "380569a3-53a4-420e-ea45-cb844c475de2",
        "colab": {
          "base_uri": "https://localhost:8080/",
          "height": 265
        }
      },
      "source": [
        "loss = history.history['loss']\n",
        "#val_loss = history.history['val_loss']\n",
        "plt.figure()\n",
        "plt.plot( loss, label='Training loss')\n",
        "#plt.plot( val_loss, label='Validation loss')\n",
        "plt.legend()\n",
        "plt.show()"
      ],
      "execution_count": 0,
      "outputs": [
        {
          "output_type": "display_data",
          "data": {
            "image/png": "[encoded data removed]",
            "text/plain": [
              "<Figure size 432x288 with 1 Axes>"
            ]
          },
          "metadata": {
            "tags": []
          }
        }
      ]
    },
    {
      "cell_type": "markdown",
      "metadata": {
        "id": "3FnRUD4k0srH",
        "colab_type": "text"
      },
      "source": [
        "# **Traying a model that starts with embedding layer**"
      ]
    },
    {
      "cell_type": "code",
      "metadata": {
        "id": "CZFjlevkOZUY",
        "colab_type": "code",
        "outputId": "ad014848-9a60-4407-a41a-3694419b67f9",
        "colab": {
          "base_uri": "https://localhost:8080/",
          "height": 50
        }
      },
      "source": [
        "#create X\n",
        "L=[]\n",
        "for doc in new_df['tokenized_int']:\n",
        "\n",
        "  L.append(doc)\n",
        "print(len(L))\n",
        "X=[]\n",
        "l=[]\n",
        "j=0\n",
        "while(j < len(L)-3):\n",
        "  for i in range(3):\n",
        "      for b in L[j+i]:\n",
        "        l.append(b)\n",
        "  X.append(l)\n",
        "  l=[]\n",
        "  j=j+1\n",
        "print(j)\n",
        "#create Y\n",
        "Y=L[3:]"
      ],
      "execution_count": 0,
      "outputs": [
        {
          "output_type": "stream",
          "text": [
            "2420\n",
            "2417\n"
          ],
          "name": "stdout"
        }
      ]
    },
    {
      "cell_type": "code",
      "metadata": {
        "id": "bw1RexZz00Uk",
        "colab_type": "code",
        "outputId": "e6b42442-b2da-431c-d6c5-70ad5f730625",
        "colab": {
          "base_uri": "https://localhost:8080/",
          "height": 34
        }
      },
      "source": [
        "len(X),len(Y)"
      ],
      "execution_count": 0,
      "outputs": [
        {
          "output_type": "execute_result",
          "data": {
            "text/plain": [
              "(2417, 2417)"
            ]
          },
          "metadata": {
            "tags": []
          },
          "execution_count": 107
        }
      ]
    },
    {
      "cell_type": "markdown",
      "metadata": {
        "id": "4GsDlTbM1CKh",
        "colab_type": "text"
      },
      "source": [
        "## **Creating an embedding matrix**\n",
        "(to pass it as weights in embedding layer)"
      ]
    },
    {
      "cell_type": "code",
      "metadata": {
        "id": "e5oCWzpN03Pr",
        "colab_type": "code",
        "colab": {}
      },
      "source": [
        "embedding_matrix = np.zeros((len(vocabulary), 100))\n",
        "for  index , word in enumerate(vocabulary) :\n",
        "    embedding_vector = embeddings_dictionary[str(word)]\n",
        "    if embedding_vector is not None:\n",
        "        embedding_matrix[int(index)] = embedding_vector"
      ],
      "execution_count": 0,
      "outputs": []
    },
    {
      "cell_type": "code",
      "metadata": {
        "id": "JsKxzcYw1ktw",
        "colab_type": "code",
        "outputId": "3e6592d7-b968-4e03-82f9-7820d2ab2587",
        "colab": {
          "base_uri": "https://localhost:8080/",
          "height": 269
        }
      },
      "source": [
        "model = Sequential()\n",
        "embedding_layer = Embedding(len(vocabulary), 100, weights=[embedding_matrix], input_length=9, trainable=False)\n",
        "model.add(embedding_layer)\n",
        "model.add(Flatten())\n",
        "model.add(Dense(3, activation='relu'))\n",
        "model.compile(optimizer='adam', loss='mse', metrics=['acc'])\n",
        "print(model.summary())"
      ],
      "execution_count": 0,
      "outputs": [
        {
          "output_type": "stream",
          "text": [
            "Model: \"sequential_17\"\n",
            "_________________________________________________________________\n",
            "Layer (type)                 Output Shape              Param #   \n",
            "=================================================================\n",
            "embedding_1 (Embedding)      (None, 9, 100)            545800    \n",
            "_________________________________________________________________\n",
            "flatten_17 (Flatten)         (None, 900)               0         \n",
            "_________________________________________________________________\n",
            "dense_25 (Dense)             (None, 3)                 2703      \n",
            "=================================================================\n",
            "Total params: 548,503\n",
            "Trainable params: 2,703\n",
            "Non-trainable params: 545,800\n",
            "_________________________________________________________________\n",
            "None\n"
          ],
          "name": "stdout"
        }
      ]
    },
    {
      "cell_type": "code",
      "metadata": {
        "id": "-fZx91wu5Gh4",
        "colab_type": "code",
        "colab": {}
      },
      "source": [
        "model.fit(X,Y, epochs=100,batch_size=64)"
      ],
      "execution_count": 0,
      "outputs": []
    },
    {
      "cell_type": "code",
      "metadata": {
        "id": "vr3udAW55bRI",
        "colab_type": "code",
        "colab": {}
      },
      "source": [
        "loss, accuracy = model.evaluate(padded_sentences, sentiments, verbose=0)\n",
        "print('Accuracy: %f' % (accuracy*100))"
      ],
      "execution_count": 0,
      "outputs": []
    }
  ]
}